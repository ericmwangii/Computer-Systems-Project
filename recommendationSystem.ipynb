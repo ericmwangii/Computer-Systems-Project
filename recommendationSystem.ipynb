{
 "cells": [
  {
   "cell_type": "code",
   "execution_count": 48,
   "metadata": {},
   "outputs": [],
   "source": [
    "import numpy as np\n",
    "import pandas as pd\n",
    "import matplotlib.pyplot as plt\n",
    "import seaborn as sbn\n",
    "\n"
   ]
  },
  {
   "cell_type": "markdown",
   "metadata": {},
   "source": [
    "Reading the data"
   ]
  },
  {
   "cell_type": "code",
   "execution_count": 49,
   "metadata": {},
   "outputs": [
    {
     "data": {
      "text/html": [
       "<div>\n",
       "<style scoped>\n",
       "    .dataframe tbody tr th:only-of-type {\n",
       "        vertical-align: middle;\n",
       "    }\n",
       "\n",
       "    .dataframe tbody tr th {\n",
       "        vertical-align: top;\n",
       "    }\n",
       "\n",
       "    .dataframe thead th {\n",
       "        text-align: right;\n",
       "    }\n",
       "</style>\n",
       "<table border=\"1\" class=\"dataframe\">\n",
       "  <thead>\n",
       "    <tr style=\"text-align: right;\">\n",
       "      <th></th>\n",
       "      <th>track_id</th>\n",
       "      <th>track_name</th>\n",
       "      <th>track_artist</th>\n",
       "      <th>track_popularity</th>\n",
       "      <th>track_album_id</th>\n",
       "      <th>track_album_name</th>\n",
       "      <th>track_album_release_date</th>\n",
       "      <th>playlist_name</th>\n",
       "      <th>playlist_id</th>\n",
       "      <th>playlist_genre</th>\n",
       "      <th>...</th>\n",
       "      <th>key</th>\n",
       "      <th>loudness</th>\n",
       "      <th>mode</th>\n",
       "      <th>speechiness</th>\n",
       "      <th>acousticness</th>\n",
       "      <th>instrumentalness</th>\n",
       "      <th>liveness</th>\n",
       "      <th>valence</th>\n",
       "      <th>tempo</th>\n",
       "      <th>duration_ms</th>\n",
       "    </tr>\n",
       "  </thead>\n",
       "  <tbody>\n",
       "    <tr>\n",
       "      <th>0</th>\n",
       "      <td>6f807x0ima9a1j3VPbc7VN</td>\n",
       "      <td>I Don't Care (with Justin Bieber) - Loud Luxur...</td>\n",
       "      <td>Ed Sheeran</td>\n",
       "      <td>66</td>\n",
       "      <td>2oCs0DGTsRO98Gh5ZSl2Cx</td>\n",
       "      <td>I Don't Care (with Justin Bieber) [Loud Luxury...</td>\n",
       "      <td>2019-06-14</td>\n",
       "      <td>Pop Remix</td>\n",
       "      <td>37i9dQZF1DXcZDD7cfEKhW</td>\n",
       "      <td>pop</td>\n",
       "      <td>...</td>\n",
       "      <td>6</td>\n",
       "      <td>-2.634</td>\n",
       "      <td>1</td>\n",
       "      <td>0.0583</td>\n",
       "      <td>0.10200</td>\n",
       "      <td>0.000000</td>\n",
       "      <td>0.0653</td>\n",
       "      <td>0.518</td>\n",
       "      <td>122.036</td>\n",
       "      <td>194754</td>\n",
       "    </tr>\n",
       "    <tr>\n",
       "      <th>1</th>\n",
       "      <td>0r7CVbZTWZgbTCYdfa2P31</td>\n",
       "      <td>Memories - Dillon Francis Remix</td>\n",
       "      <td>Maroon 5</td>\n",
       "      <td>67</td>\n",
       "      <td>63rPSO264uRjW1X5E6cWv6</td>\n",
       "      <td>Memories (Dillon Francis Remix)</td>\n",
       "      <td>2019-12-13</td>\n",
       "      <td>Pop Remix</td>\n",
       "      <td>37i9dQZF1DXcZDD7cfEKhW</td>\n",
       "      <td>pop</td>\n",
       "      <td>...</td>\n",
       "      <td>11</td>\n",
       "      <td>-4.969</td>\n",
       "      <td>1</td>\n",
       "      <td>0.0373</td>\n",
       "      <td>0.07240</td>\n",
       "      <td>0.004210</td>\n",
       "      <td>0.3570</td>\n",
       "      <td>0.693</td>\n",
       "      <td>99.972</td>\n",
       "      <td>162600</td>\n",
       "    </tr>\n",
       "    <tr>\n",
       "      <th>2</th>\n",
       "      <td>1z1Hg7Vb0AhHDiEmnDE79l</td>\n",
       "      <td>All the Time - Don Diablo Remix</td>\n",
       "      <td>Zara Larsson</td>\n",
       "      <td>70</td>\n",
       "      <td>1HoSmj2eLcsrR0vE9gThr4</td>\n",
       "      <td>All the Time (Don Diablo Remix)</td>\n",
       "      <td>2019-07-05</td>\n",
       "      <td>Pop Remix</td>\n",
       "      <td>37i9dQZF1DXcZDD7cfEKhW</td>\n",
       "      <td>pop</td>\n",
       "      <td>...</td>\n",
       "      <td>1</td>\n",
       "      <td>-3.432</td>\n",
       "      <td>0</td>\n",
       "      <td>0.0742</td>\n",
       "      <td>0.07940</td>\n",
       "      <td>0.000023</td>\n",
       "      <td>0.1100</td>\n",
       "      <td>0.613</td>\n",
       "      <td>124.008</td>\n",
       "      <td>176616</td>\n",
       "    </tr>\n",
       "    <tr>\n",
       "      <th>3</th>\n",
       "      <td>75FpbthrwQmzHlBJLuGdC7</td>\n",
       "      <td>Call You Mine - Keanu Silva Remix</td>\n",
       "      <td>The Chainsmokers</td>\n",
       "      <td>60</td>\n",
       "      <td>1nqYsOef1yKKuGOVchbsk6</td>\n",
       "      <td>Call You Mine - The Remixes</td>\n",
       "      <td>2019-07-19</td>\n",
       "      <td>Pop Remix</td>\n",
       "      <td>37i9dQZF1DXcZDD7cfEKhW</td>\n",
       "      <td>pop</td>\n",
       "      <td>...</td>\n",
       "      <td>7</td>\n",
       "      <td>-3.778</td>\n",
       "      <td>1</td>\n",
       "      <td>0.1020</td>\n",
       "      <td>0.02870</td>\n",
       "      <td>0.000009</td>\n",
       "      <td>0.2040</td>\n",
       "      <td>0.277</td>\n",
       "      <td>121.956</td>\n",
       "      <td>169093</td>\n",
       "    </tr>\n",
       "    <tr>\n",
       "      <th>4</th>\n",
       "      <td>1e8PAfcKUYoKkxPhrHqw4x</td>\n",
       "      <td>Someone You Loved - Future Humans Remix</td>\n",
       "      <td>Lewis Capaldi</td>\n",
       "      <td>69</td>\n",
       "      <td>7m7vv9wlQ4i0LFuJiE2zsQ</td>\n",
       "      <td>Someone You Loved (Future Humans Remix)</td>\n",
       "      <td>2019-03-05</td>\n",
       "      <td>Pop Remix</td>\n",
       "      <td>37i9dQZF1DXcZDD7cfEKhW</td>\n",
       "      <td>pop</td>\n",
       "      <td>...</td>\n",
       "      <td>1</td>\n",
       "      <td>-4.672</td>\n",
       "      <td>1</td>\n",
       "      <td>0.0359</td>\n",
       "      <td>0.08030</td>\n",
       "      <td>0.000000</td>\n",
       "      <td>0.0833</td>\n",
       "      <td>0.725</td>\n",
       "      <td>123.976</td>\n",
       "      <td>189052</td>\n",
       "    </tr>\n",
       "    <tr>\n",
       "      <th>5</th>\n",
       "      <td>7fvUMiyapMsRRxr07cU8Ef</td>\n",
       "      <td>Beautiful People (feat. Khalid) - Jack Wins Remix</td>\n",
       "      <td>Ed Sheeran</td>\n",
       "      <td>67</td>\n",
       "      <td>2yiy9cd2QktrNvWC2EUi0k</td>\n",
       "      <td>Beautiful People (feat. Khalid) [Jack Wins Remix]</td>\n",
       "      <td>2019-07-11</td>\n",
       "      <td>Pop Remix</td>\n",
       "      <td>37i9dQZF1DXcZDD7cfEKhW</td>\n",
       "      <td>pop</td>\n",
       "      <td>...</td>\n",
       "      <td>8</td>\n",
       "      <td>-5.385</td>\n",
       "      <td>1</td>\n",
       "      <td>0.1270</td>\n",
       "      <td>0.07990</td>\n",
       "      <td>0.000000</td>\n",
       "      <td>0.1430</td>\n",
       "      <td>0.585</td>\n",
       "      <td>124.982</td>\n",
       "      <td>163049</td>\n",
       "    </tr>\n",
       "    <tr>\n",
       "      <th>6</th>\n",
       "      <td>2OAylPUDDfwRGfe0lYqlCQ</td>\n",
       "      <td>Never Really Over - R3HAB Remix</td>\n",
       "      <td>Katy Perry</td>\n",
       "      <td>62</td>\n",
       "      <td>7INHYSeusaFlyrHSNxm8qH</td>\n",
       "      <td>Never Really Over (R3HAB Remix)</td>\n",
       "      <td>2019-07-26</td>\n",
       "      <td>Pop Remix</td>\n",
       "      <td>37i9dQZF1DXcZDD7cfEKhW</td>\n",
       "      <td>pop</td>\n",
       "      <td>...</td>\n",
       "      <td>5</td>\n",
       "      <td>-4.788</td>\n",
       "      <td>0</td>\n",
       "      <td>0.0623</td>\n",
       "      <td>0.18700</td>\n",
       "      <td>0.000000</td>\n",
       "      <td>0.1760</td>\n",
       "      <td>0.152</td>\n",
       "      <td>112.648</td>\n",
       "      <td>187675</td>\n",
       "    </tr>\n",
       "    <tr>\n",
       "      <th>7</th>\n",
       "      <td>6b1RNvAcJjQH73eZO4BLAB</td>\n",
       "      <td>Post Malone (feat. RANI) - GATTÜSO Remix</td>\n",
       "      <td>Sam Feldt</td>\n",
       "      <td>69</td>\n",
       "      <td>6703SRPsLkS4bPtMFFJes1</td>\n",
       "      <td>Post Malone (feat. RANI) [GATTÜSO Remix]</td>\n",
       "      <td>2019-08-29</td>\n",
       "      <td>Pop Remix</td>\n",
       "      <td>37i9dQZF1DXcZDD7cfEKhW</td>\n",
       "      <td>pop</td>\n",
       "      <td>...</td>\n",
       "      <td>4</td>\n",
       "      <td>-2.419</td>\n",
       "      <td>0</td>\n",
       "      <td>0.0434</td>\n",
       "      <td>0.03350</td>\n",
       "      <td>0.000005</td>\n",
       "      <td>0.1110</td>\n",
       "      <td>0.367</td>\n",
       "      <td>127.936</td>\n",
       "      <td>207619</td>\n",
       "    </tr>\n",
       "    <tr>\n",
       "      <th>8</th>\n",
       "      <td>7bF6tCO3gFb8INrEDcjNT5</td>\n",
       "      <td>Tough Love - Tiësto Remix / Radio Edit</td>\n",
       "      <td>Avicii</td>\n",
       "      <td>68</td>\n",
       "      <td>7CvAfGvq4RlIwEbT9o8Iav</td>\n",
       "      <td>Tough Love (Tiësto Remix)</td>\n",
       "      <td>2019-06-14</td>\n",
       "      <td>Pop Remix</td>\n",
       "      <td>37i9dQZF1DXcZDD7cfEKhW</td>\n",
       "      <td>pop</td>\n",
       "      <td>...</td>\n",
       "      <td>8</td>\n",
       "      <td>-3.562</td>\n",
       "      <td>1</td>\n",
       "      <td>0.0565</td>\n",
       "      <td>0.02490</td>\n",
       "      <td>0.000004</td>\n",
       "      <td>0.6370</td>\n",
       "      <td>0.366</td>\n",
       "      <td>127.015</td>\n",
       "      <td>193187</td>\n",
       "    </tr>\n",
       "    <tr>\n",
       "      <th>9</th>\n",
       "      <td>1IXGILkPm0tOCNeq00kCPa</td>\n",
       "      <td>If I Can't Have You - Gryffin Remix</td>\n",
       "      <td>Shawn Mendes</td>\n",
       "      <td>67</td>\n",
       "      <td>4QxzbfSsVryEQwvPFEV5Iu</td>\n",
       "      <td>If I Can't Have You (Gryffin Remix)</td>\n",
       "      <td>2019-06-20</td>\n",
       "      <td>Pop Remix</td>\n",
       "      <td>37i9dQZF1DXcZDD7cfEKhW</td>\n",
       "      <td>pop</td>\n",
       "      <td>...</td>\n",
       "      <td>2</td>\n",
       "      <td>-4.552</td>\n",
       "      <td>1</td>\n",
       "      <td>0.0320</td>\n",
       "      <td>0.05670</td>\n",
       "      <td>0.000000</td>\n",
       "      <td>0.0919</td>\n",
       "      <td>0.590</td>\n",
       "      <td>124.957</td>\n",
       "      <td>253040</td>\n",
       "    </tr>\n",
       "    <tr>\n",
       "      <th>10</th>\n",
       "      <td>3eFJI470ALf1EYjywPRsJy</td>\n",
       "      <td>Cross Me (feat. Chance the Rapper &amp; PnB Rock) ...</td>\n",
       "      <td>Ed Sheeran</td>\n",
       "      <td>58</td>\n",
       "      <td>49bXZtlI5kQSqQMSCnSaWO</td>\n",
       "      <td>Cross Me (feat. Chance the Rapper &amp; PnB Rock) ...</td>\n",
       "      <td>2019-06-21</td>\n",
       "      <td>Pop Remix</td>\n",
       "      <td>37i9dQZF1DXcZDD7cfEKhW</td>\n",
       "      <td>pop</td>\n",
       "      <td>...</td>\n",
       "      <td>6</td>\n",
       "      <td>-6.500</td>\n",
       "      <td>1</td>\n",
       "      <td>0.1810</td>\n",
       "      <td>0.14600</td>\n",
       "      <td>0.000005</td>\n",
       "      <td>0.1240</td>\n",
       "      <td>0.752</td>\n",
       "      <td>121.984</td>\n",
       "      <td>207894</td>\n",
       "    </tr>\n",
       "    <tr>\n",
       "      <th>11</th>\n",
       "      <td>3iJeF2izF1QcpCgUc97BLl</td>\n",
       "      <td>Hate Me - R3HAB Remix</td>\n",
       "      <td>Ellie Goulding</td>\n",
       "      <td>67</td>\n",
       "      <td>6e6RVFWdZaoTiLAZOCMnps</td>\n",
       "      <td>Hate Me (R3HAB Remix)</td>\n",
       "      <td>2019-08-16</td>\n",
       "      <td>Pop Remix</td>\n",
       "      <td>37i9dQZF1DXcZDD7cfEKhW</td>\n",
       "      <td>pop</td>\n",
       "      <td>...</td>\n",
       "      <td>8</td>\n",
       "      <td>-4.918</td>\n",
       "      <td>1</td>\n",
       "      <td>0.0554</td>\n",
       "      <td>0.14800</td>\n",
       "      <td>0.000000</td>\n",
       "      <td>0.1330</td>\n",
       "      <td>0.329</td>\n",
       "      <td>123.125</td>\n",
       "      <td>203733</td>\n",
       "    </tr>\n",
       "    <tr>\n",
       "      <th>12</th>\n",
       "      <td>6e0CvGZf7CouOpYF8toXHC</td>\n",
       "      <td>Body On My</td>\n",
       "      <td>Loud Luxury</td>\n",
       "      <td>67</td>\n",
       "      <td>2R66I0nzp3NnuUlzIGWQ5P</td>\n",
       "      <td>Body On My</td>\n",
       "      <td>2019-03-29</td>\n",
       "      <td>Pop Remix</td>\n",
       "      <td>37i9dQZF1DXcZDD7cfEKhW</td>\n",
       "      <td>pop</td>\n",
       "      <td>...</td>\n",
       "      <td>1</td>\n",
       "      <td>-4.675</td>\n",
       "      <td>1</td>\n",
       "      <td>0.0463</td>\n",
       "      <td>0.03990</td>\n",
       "      <td>0.000000</td>\n",
       "      <td>0.3740</td>\n",
       "      <td>0.687</td>\n",
       "      <td>121.985</td>\n",
       "      <td>192507</td>\n",
       "    </tr>\n",
       "    <tr>\n",
       "      <th>13</th>\n",
       "      <td>3eLdNmnRWr9gIyBcqTSSti</td>\n",
       "      <td>SOS - Laidback Luke Tribute Remix / Radio Edit</td>\n",
       "      <td>Avicii</td>\n",
       "      <td>68</td>\n",
       "      <td>7Al4TIo0c5twNLfdOh1y1u</td>\n",
       "      <td>SOS (Laidback Luke Tribute Remix)</td>\n",
       "      <td>2019-05-17</td>\n",
       "      <td>Pop Remix</td>\n",
       "      <td>37i9dQZF1DXcZDD7cfEKhW</td>\n",
       "      <td>pop</td>\n",
       "      <td>...</td>\n",
       "      <td>5</td>\n",
       "      <td>-4.451</td>\n",
       "      <td>0</td>\n",
       "      <td>0.0625</td>\n",
       "      <td>0.01110</td>\n",
       "      <td>0.000000</td>\n",
       "      <td>0.3390</td>\n",
       "      <td>0.678</td>\n",
       "      <td>123.919</td>\n",
       "      <td>164516</td>\n",
       "    </tr>\n",
       "    <tr>\n",
       "      <th>14</th>\n",
       "      <td>55nMnifaQWKe3f9cbwOXwx</td>\n",
       "      <td>Summer Days (feat. Macklemore &amp; Patrick Stump ...</td>\n",
       "      <td>Martin Garrix</td>\n",
       "      <td>63</td>\n",
       "      <td>2vx3BtBMn8Ed3ygEg1OT2t</td>\n",
       "      <td>Summer Days (feat. Macklemore &amp; Patrick Stump ...</td>\n",
       "      <td>2019-07-12</td>\n",
       "      <td>Pop Remix</td>\n",
       "      <td>37i9dQZF1DXcZDD7cfEKhW</td>\n",
       "      <td>pop</td>\n",
       "      <td>...</td>\n",
       "      <td>5</td>\n",
       "      <td>-4.446</td>\n",
       "      <td>0</td>\n",
       "      <td>0.0594</td>\n",
       "      <td>0.00733</td>\n",
       "      <td>0.001830</td>\n",
       "      <td>0.0729</td>\n",
       "      <td>0.238</td>\n",
       "      <td>126.070</td>\n",
       "      <td>255238</td>\n",
       "    </tr>\n",
       "    <tr>\n",
       "      <th>15</th>\n",
       "      <td>1EJgymgJHcjSOGSHcYaxvW</td>\n",
       "      <td>South of the Border (feat. Camila Cabello &amp; Ca...</td>\n",
       "      <td>Ed Sheeran</td>\n",
       "      <td>66</td>\n",
       "      <td>1imXAvLuowvPYIsFMYUPY0</td>\n",
       "      <td>South of the Border (feat. Camila Cabello &amp; Ca...</td>\n",
       "      <td>2019-12-11</td>\n",
       "      <td>Pop Remix</td>\n",
       "      <td>37i9dQZF1DXcZDD7cfEKhW</td>\n",
       "      <td>pop</td>\n",
       "      <td>...</td>\n",
       "      <td>0</td>\n",
       "      <td>-4.603</td>\n",
       "      <td>1</td>\n",
       "      <td>0.0896</td>\n",
       "      <td>0.13000</td>\n",
       "      <td>0.000005</td>\n",
       "      <td>0.3650</td>\n",
       "      <td>0.722</td>\n",
       "      <td>125.028</td>\n",
       "      <td>188230</td>\n",
       "    </tr>\n",
       "    <tr>\n",
       "      <th>16</th>\n",
       "      <td>5WaXMQMlQpq8pwIdaFP43L</td>\n",
       "      <td>All My Friends - Eden Prince Remix</td>\n",
       "      <td>AJ Mitchell</td>\n",
       "      <td>60</td>\n",
       "      <td>4lXBBbiEgwTzcfAkqdXJV1</td>\n",
       "      <td>All My Friends (Eden Prince Remix)</td>\n",
       "      <td>2019-05-03</td>\n",
       "      <td>Pop Remix</td>\n",
       "      <td>37i9dQZF1DXcZDD7cfEKhW</td>\n",
       "      <td>pop</td>\n",
       "      <td>...</td>\n",
       "      <td>1</td>\n",
       "      <td>-4.322</td>\n",
       "      <td>0</td>\n",
       "      <td>0.0948</td>\n",
       "      <td>0.07020</td>\n",
       "      <td>0.000000</td>\n",
       "      <td>0.4270</td>\n",
       "      <td>0.368</td>\n",
       "      <td>118.051</td>\n",
       "      <td>173548</td>\n",
       "    </tr>\n",
       "    <tr>\n",
       "      <th>17</th>\n",
       "      <td>3TjLsDgL0bTbSQIF6M5Ki8</td>\n",
       "      <td>Say My Name (feat. Bebe Rexha &amp; J Balvin) - Lu...</td>\n",
       "      <td>David Guetta</td>\n",
       "      <td>65</td>\n",
       "      <td>19z3vpbBT09lZ54neDfuFL</td>\n",
       "      <td>Say My Name (feat. Bebe Rexha &amp; J Balvin) [Luc...</td>\n",
       "      <td>2018-12-28</td>\n",
       "      <td>Pop Remix</td>\n",
       "      <td>37i9dQZF1DXcZDD7cfEKhW</td>\n",
       "      <td>pop</td>\n",
       "      <td>...</td>\n",
       "      <td>10</td>\n",
       "      <td>-5.289</td>\n",
       "      <td>0</td>\n",
       "      <td>0.1650</td>\n",
       "      <td>0.03950</td>\n",
       "      <td>0.000000</td>\n",
       "      <td>0.1740</td>\n",
       "      <td>0.516</td>\n",
       "      <td>120.002</td>\n",
       "      <td>189375</td>\n",
       "    </tr>\n",
       "    <tr>\n",
       "      <th>18</th>\n",
       "      <td>0GfS3y8Jd7SHWd9R51s7Fo</td>\n",
       "      <td>Dancing With A Stranger (With Normani) - Cheat...</td>\n",
       "      <td>Sam Smith</td>\n",
       "      <td>69</td>\n",
       "      <td>2LDzwN4iZ4qbSA32E9CG4Q</td>\n",
       "      <td>Dancing With A Stranger (With Normani) [Cheat ...</td>\n",
       "      <td>2019-03-08</td>\n",
       "      <td>Pop Remix</td>\n",
       "      <td>37i9dQZF1DXcZDD7cfEKhW</td>\n",
       "      <td>pop</td>\n",
       "      <td>...</td>\n",
       "      <td>1</td>\n",
       "      <td>-6.722</td>\n",
       "      <td>1</td>\n",
       "      <td>0.0542</td>\n",
       "      <td>0.10300</td>\n",
       "      <td>0.003600</td>\n",
       "      <td>0.1380</td>\n",
       "      <td>0.324</td>\n",
       "      <td>111.961</td>\n",
       "      <td>159404</td>\n",
       "    </tr>\n",
       "    <tr>\n",
       "      <th>19</th>\n",
       "      <td>2v3DuCVBbopteJqdM7aKQK</td>\n",
       "      <td>Let It Be Me - Sondr Remix</td>\n",
       "      <td>Steve Aoki</td>\n",
       "      <td>35</td>\n",
       "      <td>097kyycr5ZuLS2cPwwUHwt</td>\n",
       "      <td>Let It Be Me (Remixes)</td>\n",
       "      <td>2019-10-18</td>\n",
       "      <td>Pop Remix</td>\n",
       "      <td>37i9dQZF1DXcZDD7cfEKhW</td>\n",
       "      <td>pop</td>\n",
       "      <td>...</td>\n",
       "      <td>7</td>\n",
       "      <td>-5.466</td>\n",
       "      <td>1</td>\n",
       "      <td>0.0934</td>\n",
       "      <td>0.00791</td>\n",
       "      <td>0.000441</td>\n",
       "      <td>0.1310</td>\n",
       "      <td>0.232</td>\n",
       "      <td>122.676</td>\n",
       "      <td>185366</td>\n",
       "    </tr>\n",
       "  </tbody>\n",
       "</table>\n",
       "<p>20 rows × 23 columns</p>\n",
       "</div>"
      ],
      "text/plain": [
       "                  track_id                                         track_name  \\\n",
       "0   6f807x0ima9a1j3VPbc7VN  I Don't Care (with Justin Bieber) - Loud Luxur...   \n",
       "1   0r7CVbZTWZgbTCYdfa2P31                    Memories - Dillon Francis Remix   \n",
       "2   1z1Hg7Vb0AhHDiEmnDE79l                    All the Time - Don Diablo Remix   \n",
       "3   75FpbthrwQmzHlBJLuGdC7                  Call You Mine - Keanu Silva Remix   \n",
       "4   1e8PAfcKUYoKkxPhrHqw4x            Someone You Loved - Future Humans Remix   \n",
       "5   7fvUMiyapMsRRxr07cU8Ef  Beautiful People (feat. Khalid) - Jack Wins Remix   \n",
       "6   2OAylPUDDfwRGfe0lYqlCQ                    Never Really Over - R3HAB Remix   \n",
       "7   6b1RNvAcJjQH73eZO4BLAB           Post Malone (feat. RANI) - GATTÜSO Remix   \n",
       "8   7bF6tCO3gFb8INrEDcjNT5             Tough Love - Tiësto Remix / Radio Edit   \n",
       "9   1IXGILkPm0tOCNeq00kCPa                If I Can't Have You - Gryffin Remix   \n",
       "10  3eFJI470ALf1EYjywPRsJy  Cross Me (feat. Chance the Rapper & PnB Rock) ...   \n",
       "11  3iJeF2izF1QcpCgUc97BLl                              Hate Me - R3HAB Remix   \n",
       "12  6e0CvGZf7CouOpYF8toXHC                                         Body On My   \n",
       "13  3eLdNmnRWr9gIyBcqTSSti     SOS - Laidback Luke Tribute Remix / Radio Edit   \n",
       "14  55nMnifaQWKe3f9cbwOXwx  Summer Days (feat. Macklemore & Patrick Stump ...   \n",
       "15  1EJgymgJHcjSOGSHcYaxvW  South of the Border (feat. Camila Cabello & Ca...   \n",
       "16  5WaXMQMlQpq8pwIdaFP43L                 All My Friends - Eden Prince Remix   \n",
       "17  3TjLsDgL0bTbSQIF6M5Ki8  Say My Name (feat. Bebe Rexha & J Balvin) - Lu...   \n",
       "18  0GfS3y8Jd7SHWd9R51s7Fo  Dancing With A Stranger (With Normani) - Cheat...   \n",
       "19  2v3DuCVBbopteJqdM7aKQK                         Let It Be Me - Sondr Remix   \n",
       "\n",
       "        track_artist  track_popularity          track_album_id  \\\n",
       "0         Ed Sheeran                66  2oCs0DGTsRO98Gh5ZSl2Cx   \n",
       "1           Maroon 5                67  63rPSO264uRjW1X5E6cWv6   \n",
       "2       Zara Larsson                70  1HoSmj2eLcsrR0vE9gThr4   \n",
       "3   The Chainsmokers                60  1nqYsOef1yKKuGOVchbsk6   \n",
       "4      Lewis Capaldi                69  7m7vv9wlQ4i0LFuJiE2zsQ   \n",
       "5         Ed Sheeran                67  2yiy9cd2QktrNvWC2EUi0k   \n",
       "6         Katy Perry                62  7INHYSeusaFlyrHSNxm8qH   \n",
       "7          Sam Feldt                69  6703SRPsLkS4bPtMFFJes1   \n",
       "8             Avicii                68  7CvAfGvq4RlIwEbT9o8Iav   \n",
       "9       Shawn Mendes                67  4QxzbfSsVryEQwvPFEV5Iu   \n",
       "10        Ed Sheeran                58  49bXZtlI5kQSqQMSCnSaWO   \n",
       "11    Ellie Goulding                67  6e6RVFWdZaoTiLAZOCMnps   \n",
       "12       Loud Luxury                67  2R66I0nzp3NnuUlzIGWQ5P   \n",
       "13            Avicii                68  7Al4TIo0c5twNLfdOh1y1u   \n",
       "14     Martin Garrix                63  2vx3BtBMn8Ed3ygEg1OT2t   \n",
       "15        Ed Sheeran                66  1imXAvLuowvPYIsFMYUPY0   \n",
       "16       AJ Mitchell                60  4lXBBbiEgwTzcfAkqdXJV1   \n",
       "17      David Guetta                65  19z3vpbBT09lZ54neDfuFL   \n",
       "18         Sam Smith                69  2LDzwN4iZ4qbSA32E9CG4Q   \n",
       "19        Steve Aoki                35  097kyycr5ZuLS2cPwwUHwt   \n",
       "\n",
       "                                     track_album_name  \\\n",
       "0   I Don't Care (with Justin Bieber) [Loud Luxury...   \n",
       "1                     Memories (Dillon Francis Remix)   \n",
       "2                     All the Time (Don Diablo Remix)   \n",
       "3                         Call You Mine - The Remixes   \n",
       "4             Someone You Loved (Future Humans Remix)   \n",
       "5   Beautiful People (feat. Khalid) [Jack Wins Remix]   \n",
       "6                     Never Really Over (R3HAB Remix)   \n",
       "7            Post Malone (feat. RANI) [GATTÜSO Remix]   \n",
       "8                           Tough Love (Tiësto Remix)   \n",
       "9                 If I Can't Have You (Gryffin Remix)   \n",
       "10  Cross Me (feat. Chance the Rapper & PnB Rock) ...   \n",
       "11                              Hate Me (R3HAB Remix)   \n",
       "12                                         Body On My   \n",
       "13                  SOS (Laidback Luke Tribute Remix)   \n",
       "14  Summer Days (feat. Macklemore & Patrick Stump ...   \n",
       "15  South of the Border (feat. Camila Cabello & Ca...   \n",
       "16                 All My Friends (Eden Prince Remix)   \n",
       "17  Say My Name (feat. Bebe Rexha & J Balvin) [Luc...   \n",
       "18  Dancing With A Stranger (With Normani) [Cheat ...   \n",
       "19                             Let It Be Me (Remixes)   \n",
       "\n",
       "   track_album_release_date playlist_name             playlist_id  \\\n",
       "0                2019-06-14     Pop Remix  37i9dQZF1DXcZDD7cfEKhW   \n",
       "1                2019-12-13     Pop Remix  37i9dQZF1DXcZDD7cfEKhW   \n",
       "2                2019-07-05     Pop Remix  37i9dQZF1DXcZDD7cfEKhW   \n",
       "3                2019-07-19     Pop Remix  37i9dQZF1DXcZDD7cfEKhW   \n",
       "4                2019-03-05     Pop Remix  37i9dQZF1DXcZDD7cfEKhW   \n",
       "5                2019-07-11     Pop Remix  37i9dQZF1DXcZDD7cfEKhW   \n",
       "6                2019-07-26     Pop Remix  37i9dQZF1DXcZDD7cfEKhW   \n",
       "7                2019-08-29     Pop Remix  37i9dQZF1DXcZDD7cfEKhW   \n",
       "8                2019-06-14     Pop Remix  37i9dQZF1DXcZDD7cfEKhW   \n",
       "9                2019-06-20     Pop Remix  37i9dQZF1DXcZDD7cfEKhW   \n",
       "10               2019-06-21     Pop Remix  37i9dQZF1DXcZDD7cfEKhW   \n",
       "11               2019-08-16     Pop Remix  37i9dQZF1DXcZDD7cfEKhW   \n",
       "12               2019-03-29     Pop Remix  37i9dQZF1DXcZDD7cfEKhW   \n",
       "13               2019-05-17     Pop Remix  37i9dQZF1DXcZDD7cfEKhW   \n",
       "14               2019-07-12     Pop Remix  37i9dQZF1DXcZDD7cfEKhW   \n",
       "15               2019-12-11     Pop Remix  37i9dQZF1DXcZDD7cfEKhW   \n",
       "16               2019-05-03     Pop Remix  37i9dQZF1DXcZDD7cfEKhW   \n",
       "17               2018-12-28     Pop Remix  37i9dQZF1DXcZDD7cfEKhW   \n",
       "18               2019-03-08     Pop Remix  37i9dQZF1DXcZDD7cfEKhW   \n",
       "19               2019-10-18     Pop Remix  37i9dQZF1DXcZDD7cfEKhW   \n",
       "\n",
       "   playlist_genre  ... key  loudness  mode  speechiness  acousticness  \\\n",
       "0             pop  ...   6    -2.634     1       0.0583       0.10200   \n",
       "1             pop  ...  11    -4.969     1       0.0373       0.07240   \n",
       "2             pop  ...   1    -3.432     0       0.0742       0.07940   \n",
       "3             pop  ...   7    -3.778     1       0.1020       0.02870   \n",
       "4             pop  ...   1    -4.672     1       0.0359       0.08030   \n",
       "5             pop  ...   8    -5.385     1       0.1270       0.07990   \n",
       "6             pop  ...   5    -4.788     0       0.0623       0.18700   \n",
       "7             pop  ...   4    -2.419     0       0.0434       0.03350   \n",
       "8             pop  ...   8    -3.562     1       0.0565       0.02490   \n",
       "9             pop  ...   2    -4.552     1       0.0320       0.05670   \n",
       "10            pop  ...   6    -6.500     1       0.1810       0.14600   \n",
       "11            pop  ...   8    -4.918     1       0.0554       0.14800   \n",
       "12            pop  ...   1    -4.675     1       0.0463       0.03990   \n",
       "13            pop  ...   5    -4.451     0       0.0625       0.01110   \n",
       "14            pop  ...   5    -4.446     0       0.0594       0.00733   \n",
       "15            pop  ...   0    -4.603     1       0.0896       0.13000   \n",
       "16            pop  ...   1    -4.322     0       0.0948       0.07020   \n",
       "17            pop  ...  10    -5.289     0       0.1650       0.03950   \n",
       "18            pop  ...   1    -6.722     1       0.0542       0.10300   \n",
       "19            pop  ...   7    -5.466     1       0.0934       0.00791   \n",
       "\n",
       "    instrumentalness  liveness  valence    tempo  duration_ms  \n",
       "0           0.000000    0.0653    0.518  122.036       194754  \n",
       "1           0.004210    0.3570    0.693   99.972       162600  \n",
       "2           0.000023    0.1100    0.613  124.008       176616  \n",
       "3           0.000009    0.2040    0.277  121.956       169093  \n",
       "4           0.000000    0.0833    0.725  123.976       189052  \n",
       "5           0.000000    0.1430    0.585  124.982       163049  \n",
       "6           0.000000    0.1760    0.152  112.648       187675  \n",
       "7           0.000005    0.1110    0.367  127.936       207619  \n",
       "8           0.000004    0.6370    0.366  127.015       193187  \n",
       "9           0.000000    0.0919    0.590  124.957       253040  \n",
       "10          0.000005    0.1240    0.752  121.984       207894  \n",
       "11          0.000000    0.1330    0.329  123.125       203733  \n",
       "12          0.000000    0.3740    0.687  121.985       192507  \n",
       "13          0.000000    0.3390    0.678  123.919       164516  \n",
       "14          0.001830    0.0729    0.238  126.070       255238  \n",
       "15          0.000005    0.3650    0.722  125.028       188230  \n",
       "16          0.000000    0.4270    0.368  118.051       173548  \n",
       "17          0.000000    0.1740    0.516  120.002       189375  \n",
       "18          0.003600    0.1380    0.324  111.961       159404  \n",
       "19          0.000441    0.1310    0.232  122.676       185366  \n",
       "\n",
       "[20 rows x 23 columns]"
      ]
     },
     "execution_count": 49,
     "metadata": {},
     "output_type": "execute_result"
    }
   ],
   "source": [
    "spotify_data = pd.read_csv('./data/songs.csv')\n",
    "genre_data = pd.read_csv('./data/genres.csv')\n",
    "data_year = pd.read_csv('./data/years.csv')\n",
    "spotify_data.head(20)"
   ]
  },
  {
   "cell_type": "code",
   "execution_count": 50,
   "metadata": {},
   "outputs": [
    {
     "name": "stdout",
     "output_type": "stream",
     "text": [
      "<class 'pandas.core.frame.DataFrame'>\n",
      "RangeIndex: 32833 entries, 0 to 32832\n",
      "Data columns (total 23 columns):\n",
      " #   Column                    Non-Null Count  Dtype  \n",
      "---  ------                    --------------  -----  \n",
      " 0   track_id                  32833 non-null  object \n",
      " 1   track_name                32828 non-null  object \n",
      " 2   track_artist              32828 non-null  object \n",
      " 3   track_popularity          32833 non-null  int64  \n",
      " 4   track_album_id            32833 non-null  object \n",
      " 5   track_album_name          32828 non-null  object \n",
      " 6   track_album_release_date  32833 non-null  object \n",
      " 7   playlist_name             32833 non-null  object \n",
      " 8   playlist_id               32833 non-null  object \n",
      " 9   playlist_genre            32833 non-null  object \n",
      " 10  playlist_subgenre         32833 non-null  object \n",
      " 11  danceability              32833 non-null  float64\n",
      " 12  energy                    32833 non-null  float64\n",
      " 13  key                       32833 non-null  int64  \n",
      " 14  loudness                  32833 non-null  float64\n",
      " 15  mode                      32833 non-null  int64  \n",
      " 16  speechiness               32833 non-null  float64\n",
      " 17  acousticness              32833 non-null  float64\n",
      " 18  instrumentalness          32833 non-null  float64\n",
      " 19  liveness                  32833 non-null  float64\n",
      " 20  valence                   32833 non-null  float64\n",
      " 21  tempo                     32833 non-null  float64\n",
      " 22  duration_ms               32833 non-null  int64  \n",
      "dtypes: float64(9), int64(4), object(10)\n",
      "memory usage: 5.8+ MB\n"
     ]
    }
   ],
   "source": [
    "spotify_data.info()"
   ]
  },
  {
   "cell_type": "code",
   "execution_count": 51,
   "metadata": {},
   "outputs": [
    {
     "name": "stdout",
     "output_type": "stream",
     "text": [
      "<class 'pandas.core.frame.DataFrame'>\n",
      "RangeIndex: 2973 entries, 0 to 2972\n",
      "Data columns (total 14 columns):\n",
      " #   Column            Non-Null Count  Dtype  \n",
      "---  ------            --------------  -----  \n",
      " 0   mode              2973 non-null   int64  \n",
      " 1   genres            2973 non-null   object \n",
      " 2   acousticness      2973 non-null   float64\n",
      " 3   danceability      2973 non-null   float64\n",
      " 4   duration_ms       2973 non-null   float64\n",
      " 5   energy            2973 non-null   float64\n",
      " 6   instrumentalness  2973 non-null   float64\n",
      " 7   liveness          2973 non-null   float64\n",
      " 8   loudness          2973 non-null   float64\n",
      " 9   speechiness       2973 non-null   float64\n",
      " 10  tempo             2973 non-null   float64\n",
      " 11  valence           2973 non-null   float64\n",
      " 12  popularity        2973 non-null   float64\n",
      " 13  key               2973 non-null   int64  \n",
      "dtypes: float64(11), int64(2), object(1)\n",
      "memory usage: 325.3+ KB\n"
     ]
    }
   ],
   "source": [
    "genre_data.info()"
   ]
  },
  {
   "cell_type": "code",
   "execution_count": 52,
   "metadata": {},
   "outputs": [
    {
     "name": "stdout",
     "output_type": "stream",
     "text": [
      "<class 'pandas.core.frame.DataFrame'>\n",
      "RangeIndex: 100 entries, 0 to 99\n",
      "Data columns (total 14 columns):\n",
      " #   Column            Non-Null Count  Dtype  \n",
      "---  ------            --------------  -----  \n",
      " 0   mode              100 non-null    int64  \n",
      " 1   year              100 non-null    int64  \n",
      " 2   acousticness      100 non-null    float64\n",
      " 3   danceability      100 non-null    float64\n",
      " 4   duration_ms       100 non-null    float64\n",
      " 5   energy            100 non-null    float64\n",
      " 6   instrumentalness  100 non-null    float64\n",
      " 7   liveness          100 non-null    float64\n",
      " 8   loudness          100 non-null    float64\n",
      " 9   speechiness       100 non-null    float64\n",
      " 10  tempo             100 non-null    float64\n",
      " 11  valence           100 non-null    float64\n",
      " 12  popularity        100 non-null    float64\n",
      " 13  key               100 non-null    int64  \n",
      "dtypes: float64(11), int64(3)\n",
      "memory usage: 11.1 KB\n"
     ]
    }
   ],
   "source": [
    "data_year.info()"
   ]
  },
  {
   "cell_type": "markdown",
   "metadata": {},
   "source": [
    "Data analysis"
   ]
  },
  {
   "cell_type": "code",
   "execution_count": 53,
   "metadata": {},
   "outputs": [
    {
     "data": {
      "text/plain": [
       "<seaborn.axisgrid.FacetGrid at 0x7efe660e4c40>"
      ]
     },
     "execution_count": 53,
     "metadata": {},
     "output_type": "execute_result"
    },
    {
     "data": {
      "image/png": "[encoded data removed]",
      "text/plain": [
       "<Figure size 360x360 with 1 Axes>"
      ]
     },
     "metadata": {
      "needs_background": "light"
     },
     "output_type": "display_data"
    }
   ],
   "source": [
    "sbn.displot(spotify_data['track_popularity'])"
   ]
  },
  {
   "cell_type": "markdown",
   "metadata": {},
   "source": [
    "Get year and decade"
   ]
  },
  {
   "cell_type": "code",
   "execution_count": 58,
   "metadata": {},
   "outputs": [],
   "source": [
    "spotify_data['year'] = pd.DatetimeIndex(spotify_data['track_album_release_date']).year\n",
    "spotify_data.to_csv('./data/songs.csv')"
   ]
  },
  {
   "cell_type": "code",
   "execution_count": 60,
   "metadata": {},
   "outputs": [],
   "source": [
    "def get_decade(year):\n",
    "    period_start = int(year/10) * 10\n",
    "    decade = '{}s'.format(period_start)\n",
    "    \n",
    "    return decade\n",
    "\n",
    "spotify_data['decade'] = spotify_data['year'].apply(get_decade)\n",
    "spotify_data.to_csv('./data/songs.csv')"
   ]
  },
  {
   "cell_type": "markdown",
   "metadata": {},
   "source": [
    "Visualization of genres"
   ]
  },
  {
   "cell_type": "code",
   "execution_count": 77,
   "metadata": {},
   "outputs": [
    {
     "data": {
      "text/plain": [
       "([<matplotlib.patches.Wedge at 0x7efe4c27d3a0>,\n",
       "  <matplotlib.patches.Wedge at 0x7efe4c27db20>,\n",
       "  <matplotlib.patches.Wedge at 0x7efe4c28b280>,\n",
       "  <matplotlib.patches.Wedge at 0x7efe4c28b9a0>,\n",
       "  <matplotlib.patches.Wedge at 0x7efe4c297100>,\n",
       "  <matplotlib.patches.Wedge at 0x7efe4c27d2b0>],\n",
       " [Text(0.9211814529357222, 0.6011861032718837, 'edm'),\n",
       "  Text(-0.14852968787921972, 1.0899261130088138, 'rock'),\n",
       "  Text(-1.0300188789300928, 0.3860843289329355, 'pop'),\n",
       "  Text(-0.8497917127615917, -0.6984654930071497, 'rap'),\n",
       "  Text(0.14268737475783405, -1.0907063367766403, 'r&b'),\n",
       "  Text(0.9788593327565668, -0.5018310539169225, 'latin')],\n",
       " [Text(0.502462610692212, 0.3279196926937547, '18.4%'),\n",
       "  Text(-0.0810161933886653, 0.594505152550262, '17.5%'),\n",
       "  Text(-0.5618284794164141, 0.2105914521452375, '16.8%'),\n",
       "  Text(-0.46352275241541363, -0.38098117800389975, '16.5%'),\n",
       "  Text(0.07782947714063675, -0.5949307291508946, '15.7%'),\n",
       "  Text(0.5339232724126727, -0.27372602940923046, '15.1%')])"
      ]
     },
     "execution_count": 77,
     "metadata": {},
     "output_type": "execute_result"
    },
    {
     "data": {
      "image/png": "[encoded data removed]",
      "text/plain": [
       "<Figure size 792x432 with 1 Axes>"
      ]
     },
     "metadata": {},
     "output_type": "display_data"
    }
   ],
   "source": [
    "data = spotify_data['playlist_genre'].value_counts()\n",
    "labels = 'edm', 'rock', 'pop', 'rap', 'r&b', 'latin'\n",
    "\n",
    "colors = sbn.color_palette('pastel')[0:5]\n",
    "\n",
    "plt.pie(data, labels = labels,  colors = colors, autopct='%1.1f%%')\n",
    "\n"
   ]
  },
  {
   "cell_type": "markdown",
   "metadata": {},
   "source": [
    "Music over time"
   ]
  },
  {
   "cell_type": "code",
   "execution_count": 63,
   "metadata": {},
   "outputs": [
    {
     "name": "stderr",
     "output_type": "stream",
     "text": [
      "/home/ericm/.local/lib/python3.9/site-packages/seaborn/_decorators.py:36: FutureWarning: Pass the following variable as a keyword arg: x. From version 0.12, the only valid positional argument will be `data`, and passing other arguments without an explicit keyword will result in an error or misinterpretation.\n",
      "  warnings.warn(\n"
     ]
    },
    {
     "data": {
      "text/plain": [
       "<AxesSubplot:xlabel='decade', ylabel='count'>"
      ]
     },
     "execution_count": 63,
     "metadata": {},
     "output_type": "execute_result"
    },
    {
     "data": {
      "image/png": "[encoded data removed]",
      "text/plain": [
       "<Figure size 792x432 with 1 Axes>"
      ]
     },
     "metadata": {},
     "output_type": "display_data"
    }
   ],
   "source": [
    "sbn.set(rc={'figure.figsize':(11,6)})\n",
    "sbn.countplot(spotify_data['decade'])"
   ]
  },
  {
   "cell_type": "code",
   "execution_count": 84,
   "metadata": {},
   "outputs": [
    {
     "data": {
      "application/vnd.plotly.v1+json": {
       "config": {
        "plotlyServerURL": "https://plot.ly"
       },
       "data": [
        {
         "hovertemplate": "variable=danceability<br>year=%{x}<br>value=%{y}<extra></extra>",
         "legendgroup": "danceability",
         "line": {
          "color": "#636efa",
          "dash": "solid"
         },
         "marker": {
          "symbol": "circle"
         },
         "mode": "lines",
         "name": "danceability",
         "orientation": "v",
         "showlegend": true,
         "type": "scatter",
         "x": [
          1921,
          1922,
          1923,
          1924,
          1925,
          1926,
          1927,
          1928,
          1929,
          1930,
          1931,
          1932,
          1933,
          1934,
          1935,
          1936,
          1937,
          1938,
          1939,
          1940,
          1941,
          1942,
          1943,
          1944,
          1945,
          1946,
          1947,
          1948,
          1949,
          1950,
          1951,
          1952,
          1953,
          1954,
          1955,
          1956,
          1957,
          1958,
          1959,
          1960,
          1961,
          1962,
          1963,
          1964,
          1965,
          1966,
          1967,
          1968,
          1969,
          1970,
          1971,
          1972,
          1973,
          1974,
          1975,
          1976,
          1977,
          1978,
          1979,
          1980,
          1981,
          1982,
          1983,
          1984,
          1985,
          1986,
          1987,
          1988,
          1989,
          1990,
          1991,
          1992,
          1993,
          1994,
          1995,
          1996,
          1997,
          1998,
          1999,
          2000,
          2001,
          2002,
          2003,
          2004,
          2005,
          2006,
          2007,
          2008,
          2009,
          2010,
          2011,
          2012,
          2013,
          2014,
          2015,
          2016,
          2017,
          2018,
          2019,
          2020
         ],
         "xaxis": "x",
         "y": [
          0.4185973333333336,
          0.4820422535211267,
          0.5773405405405401,
          0.5498940677966102,
          0.5738633093525181,
          0.5998802612481859,
          0.6482682926829262,
          0.5342878667724027,
          0.6476698529411761,
          0.5181758835758836,
          0.5952217391304357,
          0.5577976095617526,
          0.57029030390738,
          0.528705882352941,
          0.5558691699604746,
          0.5580055454545453,
          0.5421572298325723,
          0.479977977161501,
          0.5126828,
          0.52189235,
          0.4804813541666676,
          0.4646338882282997,
          0.4551456338028168,
          0.5001744680851068,
          0.5191431500000011,
          0.4144450116009276,
          0.4713208484848491,
          0.4633694736842109,
          0.4421993999999996,
          0.5042531000000008,
          0.4624800999999999,
          0.4570322000000001,
          0.4374260512820513,
          0.4656388999999994,
          0.4881312,
          0.4878145000000007,
          0.5034812307692305,
          0.4800213999999995,
          0.4821143076923083,
          0.4860292432432435,
          0.4891655789473678,
          0.4931643684210523,
          0.48162135,
          0.5041769743589742,
          0.5034505641025638,
          0.5070204999999981,
          0.4926885942971483,
          0.5010080999999997,
          0.4880977999999999,
          0.5063075000000004,
          0.5042738499999999,
          0.5209994499999997,
          0.5154494500000005,
          0.51533975,
          0.5209980000000007,
          0.5297624999999999,
          0.5333237000000017,
          0.5407746000000005,
          0.5620453000000001,
          0.5561523589743594,
          0.5421846999999999,
          0.5642594000000005,
          0.5456292999999998,
          0.5303089499999987,
          0.5556424000000012,
          0.5409334000000001,
          0.5410193333333342,
          0.5404594358974372,
          0.5472274499999988,
          0.5352986500000001,
          0.5558243589743591,
          0.5550648499999989,
          0.5698781500000001,
          0.5528299500000016,
          0.5590457500000001,
          0.5878306000000001,
          0.5768138499999994,
          0.5862116499999998,
          0.5821579190158892,
          0.590918047034764,
          0.5833178553615969,
          0.5761602999999997,
          0.5757633060388944,
          0.5676803662258397,
          0.5722805641025652,
          0.5682301538461539,
          0.5634143589743592,
          0.5791928388746803,
          0.5641903571428577,
          0.5724883432539687,
          0.5528669806643526,
          0.5708818508997433,
          0.5711480263157896,
          0.5899476807980057,
          0.5937740628166152,
          0.6002023928770179,
          0.6122170180722886,
          0.6635004755111744,
          0.6448141097998967,
          0.6929043349753701
         ],
         "yaxis": "y"
        },
        {
         "hovertemplate": "variable=key<br>year=%{x}<br>value=%{y}<extra></extra>",
         "legendgroup": "key",
         "line": {
          "color": "#EF553B",
          "dash": "solid"
         },
         "marker": {
          "symbol": "circle"
         },
         "mode": "lines",
         "name": "key",
         "orientation": "v",
         "showlegend": true,
         "type": "scatter",
         "x": [
          1921,
          1922,
          1923,
          1924,
          1925,
          1926,
          1927,
          1928,
          1929,
          1930,
          1931,
          1932,
          1933,
          1934,
          1935,
          1936,
          1937,
          1938,
          1939,
          1940,
          1941,
          1942,
          1943,
          1944,
          1945,
          1946,
          1947,
          1948,
          1949,
          1950,
          1951,
          1952,
          1953,
          1954,
          1955,
          1956,
          1957,
          1958,
          1959,
          1960,
          1961,
          1962,
          1963,
          1964,
          1965,
          1966,
          1967,
          1968,
          1969,
          1970,
          1971,
          1972,
          1973,
          1974,
          1975,
          1976,
          1977,
          1978,
          1979,
          1980,
          1981,
          1982,
          1983,
          1984,
          1985,
          1986,
          1987,
          1988,
          1989,
          1990,
          1991,
          1992,
          1993,
          1994,
          1995,
          1996,
          1997,
          1998,
          1999,
          2000,
          2001,
          2002,
          2003,
          2004,
          2005,
          2006,
          2007,
          2008,
          2009,
          2010,
          2011,
          2012,
          2013,
          2014,
          2015,
          2016,
          2017,
          2018,
          2019,
          2020
         ],
         "xaxis": "x",
         "y": [
          2,
          10,
          0,
          10,
          5,
          9,
          7,
          1,
          7,
          2,
          0,
          7,
          7,
          0,
          7,
          10,
          7,
          0,
          0,
          7,
          7,
          7,
          5,
          10,
          0,
          7,
          7,
          0,
          0,
          7,
          0,
          0,
          0,
          0,
          5,
          0,
          5,
          0,
          0,
          0,
          0,
          0,
          0,
          0,
          0,
          2,
          0,
          0,
          2,
          2,
          2,
          2,
          0,
          2,
          2,
          2,
          9,
          2,
          0,
          0,
          9,
          2,
          9,
          9,
          9,
          9,
          7,
          7,
          7,
          7,
          7,
          7,
          7,
          7,
          0,
          7,
          7,
          7,
          0,
          7,
          7,
          7,
          7,
          7,
          0,
          7,
          7,
          0,
          0,
          0,
          2,
          7,
          1,
          0,
          7,
          0,
          1,
          1,
          1,
          1
         ],
         "yaxis": "y"
        },
        {
         "hovertemplate": "variable=loudness<br>year=%{x}<br>value=%{y}<extra></extra>",
         "legendgroup": "loudness",
         "line": {
          "color": "#00cc96",
          "dash": "solid"
         },
         "marker": {
          "symbol": "circle"
         },
         "mode": "lines",
         "name": "loudness",
         "orientation": "v",
         "showlegend": true,
         "type": "scatter",
         "x": [
          1921,
          1922,
          1923,
          1924,
          1925,
          1926,
          1927,
          1928,
          1929,
          1930,
          1931,
          1932,
          1933,
          1934,
          1935,
          1936,
          1937,
          1938,
          1939,
          1940,
          1941,
          1942,
          1943,
          1944,
          1945,
          1946,
          1947,
          1948,
          1949,
          1950,
          1951,
          1952,
          1953,
          1954,
          1955,
          1956,
          1957,
          1958,
          1959,
          1960,
          1961,
          1962,
          1963,
          1964,
          1965,
          1966,
          1967,
          1968,
          1969,
          1970,
          1971,
          1972,
          1973,
          1974,
          1975,
          1976,
          1977,
          1978,
          1979,
          1980,
          1981,
          1982,
          1983,
          1984,
          1985,
          1986,
          1987,
          1988,
          1989,
          1990,
          1991,
          1992,
          1993,
          1994,
          1995,
          1996,
          1997,
          1998,
          1999,
          2000,
          2001,
          2002,
          2003,
          2004,
          2005,
          2006,
          2007,
          2008,
          2009,
          2010,
          2011,
          2012,
          2013,
          2014,
          2015,
          2016,
          2017,
          2018,
          2019,
          2020
         ],
         "xaxis": "x",
         "y": [
          -17.04866666666665,
          -19.275281690140844,
          -14.129210810810813,
          -14.231343220338989,
          -14.14641366906474,
          -18.492538461538462,
          -14.422373983739831,
          -17.191982553528927,
          -16.530376050420152,
          -12.869221413721428,
          -16.51609420289853,
          -13.364055776892426,
          -13.06900868306802,
          -14.756875432525954,
          -15.41474967061924,
          -14.612999090909067,
          -13.11514307458143,
          -14.290582381729198,
          -13.900570000000004,
          -13.684048000000017,
          -15.755536458333326,
          -15.02903210463735,
          -13.60212535211268,
          -14.58205585106382,
          -16.9814715,
          -16.921774361948952,
          -14.377607878787892,
          -15.505407368421029,
          -15.525844999999984,
          -13.863834499999962,
          -15.812066000000032,
          -15.95886600000001,
          -15.499134871794872,
          -15.408004500000024,
          -13.842262000000035,
          -14.175195500000006,
          -14.124848717948735,
          -14.16517100000002,
          -14.460136923076943,
          -13.814102702702725,
          -14.171330526315783,
          -13.177364210526294,
          -13.670647000000017,
          -13.048075897435869,
          -11.888213333333338,
          -11.356919500000007,
          -11.708829414707358,
          -12.043861999999995,
          -12.062166000000008,
          -11.772557999999997,
          -12.079936000000007,
          -11.773563499999996,
          -11.260197000000012,
          -11.816489000000018,
          -11.48593899999998,
          -11.114236999999996,
          -11.077354499999998,
          -10.891867999999995,
          -10.977513500000004,
          -10.700942051282045,
          -10.924404499999977,
          -10.9331225,
          -11.200171000000024,
          -11.523238499999987,
          -11.360688499999991,
          -11.10399500000002,
          -11.623467179487175,
          -11.519821025641036,
          -11.38413000000001,
          -11.32747949999998,
          -10.955768717948724,
          -10.575404499999976,
          -10.882701000000026,
          -10.282273000000004,
          -10.119450000000008,
          -9.44381849999999,
          -9.200875500000018,
          -8.971167999999997,
          -8.266409533572531,
          -8.247765848670758,
          -8.305095261845384,
          -7.686639500000013,
          -7.485545035823955,
          -7.601655137334684,
          -7.46615897435897,
          -7.265500512820514,
          -7.044535897435892,
          -6.8438040920716166,
          -7.0460147959183645,
          -6.9099042658730125,
          -7.574986117997006,
          -7.260549614395888,
          -7.472039473684207,
          -7.06743990024938,
          -7.625639311043569,
          -8.061056204785759,
          -8.31262951807228,
          -7.168785068949124,
          -7.722191893278596,
          -6.595066995073878
         ],
         "yaxis": "y"
        },
        {
         "hovertemplate": "variable=mode<br>year=%{x}<br>value=%{y}<extra></extra>",
         "legendgroup": "mode",
         "line": {
          "color": "#ab63fa",
          "dash": "solid"
         },
         "marker": {
          "symbol": "circle"
         },
         "mode": "lines",
         "name": "mode",
         "orientation": "v",
         "showlegend": true,
         "type": "scatter",
         "x": [
          1921,
          1922,
          1923,
          1924,
          1925,
          1926,
          1927,
          1928,
          1929,
          1930,
          1931,
          1932,
          1933,
          1934,
          1935,
          1936,
          1937,
          1938,
          1939,
          1940,
          1941,
          1942,
          1943,
          1944,
          1945,
          1946,
          1947,
          1948,
          1949,
          1950,
          1951,
          1952,
          1953,
          1954,
          1955,
          1956,
          1957,
          1958,
          1959,
          1960,
          1961,
          1962,
          1963,
          1964,
          1965,
          1966,
          1967,
          1968,
          1969,
          1970,
          1971,
          1972,
          1973,
          1974,
          1975,
          1976,
          1977,
          1978,
          1979,
          1980,
          1981,
          1982,
          1983,
          1984,
          1985,
          1986,
          1987,
          1988,
          1989,
          1990,
          1991,
          1992,
          1993,
          1994,
          1995,
          1996,
          1997,
          1998,
          1999,
          2000,
          2001,
          2002,
          2003,
          2004,
          2005,
          2006,
          2007,
          2008,
          2009,
          2010,
          2011,
          2012,
          2013,
          2014,
          2015,
          2016,
          2017,
          2018,
          2019,
          2020
         ],
         "xaxis": "x",
         "y": [
          1,
          1,
          1,
          1,
          1,
          1,
          1,
          1,
          1,
          1,
          1,
          1,
          1,
          1,
          1,
          1,
          1,
          1,
          1,
          1,
          1,
          1,
          1,
          1,
          1,
          1,
          1,
          1,
          1,
          1,
          1,
          1,
          1,
          1,
          1,
          1,
          1,
          1,
          1,
          1,
          1,
          1,
          1,
          1,
          1,
          1,
          1,
          1,
          1,
          1,
          1,
          1,
          1,
          1,
          1,
          1,
          1,
          1,
          1,
          1,
          1,
          1,
          1,
          1,
          1,
          1,
          1,
          1,
          1,
          1,
          1,
          1,
          1,
          1,
          1,
          1,
          1,
          1,
          1,
          1,
          1,
          1,
          1,
          1,
          1,
          1,
          1,
          1,
          1,
          1,
          1,
          1,
          1,
          1,
          1,
          1,
          1,
          1,
          1,
          1
         ],
         "yaxis": "y"
        },
        {
         "hovertemplate": "variable=speechiness<br>year=%{x}<br>value=%{y}<extra></extra>",
         "legendgroup": "speechiness",
         "line": {
          "color": "#FFA15A",
          "dash": "solid"
         },
         "marker": {
          "symbol": "circle"
         },
         "mode": "lines",
         "name": "speechiness",
         "orientation": "v",
         "showlegend": true,
         "type": "scatter",
         "x": [
          1921,
          1922,
          1923,
          1924,
          1925,
          1926,
          1927,
          1928,
          1929,
          1930,
          1931,
          1932,
          1933,
          1934,
          1935,
          1936,
          1937,
          1938,
          1939,
          1940,
          1941,
          1942,
          1943,
          1944,
          1945,
          1946,
          1947,
          1948,
          1949,
          1950,
          1951,
          1952,
          1953,
          1954,
          1955,
          1956,
          1957,
          1958,
          1959,
          1960,
          1961,
          1962,
          1963,
          1964,
          1965,
          1966,
          1967,
          1968,
          1969,
          1970,
          1971,
          1972,
          1973,
          1974,
          1975,
          1976,
          1977,
          1978,
          1979,
          1980,
          1981,
          1982,
          1983,
          1984,
          1985,
          1986,
          1987,
          1988,
          1989,
          1990,
          1991,
          1992,
          1993,
          1994,
          1995,
          1996,
          1997,
          1998,
          1999,
          2000,
          2001,
          2002,
          2003,
          2004,
          2005,
          2006,
          2007,
          2008,
          2009,
          2010,
          2011,
          2012,
          2013,
          2014,
          2015,
          2016,
          2017,
          2018,
          2019,
          2020
         ],
         "xaxis": "x",
         "y": [
          0.073662,
          0.1166549295774648,
          0.0939486486486487,
          0.0920894067796609,
          0.1119179856115108,
          0.4837036284470243,
          0.113609593495935,
          0.1599114988104679,
          0.4900007352941176,
          0.1199096673596674,
          0.4536189440993791,
          0.1390073705179282,
          0.0911231548480463,
          0.1024569204152248,
          0.3539123847167326,
          0.2790293636363637,
          0.0856788432267884,
          0.095957259380098,
          0.1284626999999999,
          0.2429576500000001,
          0.0913652083333335,
          0.0836783590963139,
          0.1057195774647887,
          0.1732832446808509,
          0.3050972999999997,
          0.0880059164733179,
          0.1005638181818182,
          0.1643593157894739,
          0.1029921,
          0.1534527499999999,
          0.1085066499999999,
          0.1373617999999998,
          0.0900882564102564,
          0.1048132999999999,
          0.0895582,
          0.0623123499999999,
          0.0643531282051282,
          0.0569992999999999,
          0.0678743076923077,
          0.0657835135135136,
          0.0594759473684209,
          0.0577398421052631,
          0.0520361499999999,
          0.0665944615384614,
          0.0575564615384614,
          0.05596405,
          0.0490983991995996,
          0.0589884999999999,
          0.0549749999999999,
          0.0516814999999999,
          0.0594224,
          0.0548712499999999,
          0.05782575,
          0.0573193499999999,
          0.06109845,
          0.0627499499999999,
          0.0608545499999999,
          0.0627574,
          0.0690585999999999,
          0.0592486153846154,
          0.0579159999999999,
          0.06585305,
          0.066886,
          0.0592648000000001,
          0.0584648,
          0.0648160999999999,
          0.057789641025641,
          0.0660998974358974,
          0.0639392499999999,
          0.0643452999999999,
          0.0711015897435898,
          0.0730623,
          0.0763505499999999,
          0.0760493500000001,
          0.0837544499999998,
          0.08607765,
          0.0885060500000001,
          0.09173105,
          0.094407175807278,
          0.0892054192229039,
          0.0891822942643391,
          0.0843075999999999,
          0.0939257420675538,
          0.0942388097660224,
          0.093333692307692,
          0.0858467692307692,
          0.0843473333333333,
          0.077356368286445,
          0.0854578061224489,
          0.0810314980158731,
          0.087479276152702,
          0.081742467866324,
          0.0938488866396761,
          0.0840605486284289,
          0.0967792299898684,
          0.1043132999443518,
          0.1105364959839356,
          0.1271755587256302,
          0.1210433555669573,
          0.1413836945812805
         ],
         "yaxis": "y"
        },
        {
         "hovertemplate": "variable=valence<br>year=%{x}<br>value=%{y}<extra></extra>",
         "legendgroup": "valence",
         "line": {
          "color": "#19d3f3",
          "dash": "solid"
         },
         "marker": {
          "symbol": "circle"
         },
         "mode": "lines",
         "name": "valence",
         "orientation": "v",
         "showlegend": true,
         "type": "scatter",
         "x": [
          1921,
          1922,
          1923,
          1924,
          1925,
          1926,
          1927,
          1928,
          1929,
          1930,
          1931,
          1932,
          1933,
          1934,
          1935,
          1936,
          1937,
          1938,
          1939,
          1940,
          1941,
          1942,
          1943,
          1944,
          1945,
          1946,
          1947,
          1948,
          1949,
          1950,
          1951,
          1952,
          1953,
          1954,
          1955,
          1956,
          1957,
          1958,
          1959,
          1960,
          1961,
          1962,
          1963,
          1964,
          1965,
          1966,
          1967,
          1968,
          1969,
          1970,
          1971,
          1972,
          1973,
          1974,
          1975,
          1976,
          1977,
          1978,
          1979,
          1980,
          1981,
          1982,
          1983,
          1984,
          1985,
          1986,
          1987,
          1988,
          1989,
          1990,
          1991,
          1992,
          1993,
          1994,
          1995,
          1996,
          1997,
          1998,
          1999,
          2000,
          2001,
          2002,
          2003,
          2004,
          2005,
          2006,
          2007,
          2008,
          2009,
          2010,
          2011,
          2012,
          2013,
          2014,
          2015,
          2016,
          2017,
          2018,
          2019,
          2020
         ],
         "xaxis": "x",
         "y": [
          0.3793266666666666,
          0.5355492957746479,
          0.6254924324324328,
          0.6637254237288139,
          0.6219287769784171,
          0.4369104571843251,
          0.6597004878048782,
          0.4957126883425853,
          0.6365298319327733,
          0.6162376299376306,
          0.5131170807453418,
          0.5881599601593626,
          0.5994099855282197,
          0.5588046712802772,
          0.5455777997364957,
          0.5640635454545455,
          0.5857894977168944,
          0.5149111092985317,
          0.5599248999999992,
          0.6167094700000009,
          0.4794560416666661,
          0.4774088585017848,
          0.4954545070422531,
          0.5406954787234041,
          0.4913613500000002,
          0.3982538283062647,
          0.5082125454545455,
          0.4621423684210526,
          0.4304195000000001,
          0.5516497000000001,
          0.44134755,
          0.4431349620499994,
          0.4291420512820513,
          0.4523410500000002,
          0.4724154999999997,
          0.5084230500000003,
          0.5110101538461542,
          0.4976614999999994,
          0.4784156410256422,
          0.5239316756756759,
          0.5128512105263155,
          0.5477920526315792,
          0.5415274500000008,
          0.55726042051282,
          0.5809506666666668,
          0.5801445499999996,
          0.5507916958479243,
          0.5659936500000002,
          0.5547452849999999,
          0.5720753999999992,
          0.5749132500000002,
          0.5956881500000009,
          0.5921162000000004,
          0.5812744000000009,
          0.5694151500000002,
          0.5807332499999998,
          0.58524655,
          0.5895352500000014,
          0.6099818000000005,
          0.5980580512820513,
          0.5829518500000006,
          0.5864384500000001,
          0.5721198999999989,
          0.5516387100000003,
          0.5655964500000001,
          0.5509485500000019,
          0.5414511794871785,
          0.5464853897435901,
          0.5483329000000007,
          0.5265268499999999,
          0.5486552307692295,
          0.5590983000000014,
          0.5555684500000001,
          0.5266491500000006,
          0.5302466999999994,
          0.5608732500000001,
          0.5485525000000002,
          0.5377209,
          0.5564528446950284,
          0.5594754601226991,
          0.541479107231919,
          0.5423971500000008,
          0.5305042476970324,
          0.5244885554425227,
          0.5325309230769236,
          0.5200283076923078,
          0.5167938461538473,
          0.5275418925831203,
          0.5071696617346935,
          0.5208951587301589,
          0.4724536787307882,
          0.4627090128534706,
          0.4547411943319834,
          0.4630487780548628,
          0.4320983687943254,
          0.4315320589872012,
          0.4164763112449793,
          0.4479212743699474,
          0.4588176295536167,
          0.5010478078817729
         ],
         "yaxis": "y"
        },
        {
         "hovertemplate": "variable=liveness<br>year=%{x}<br>value=%{y}<extra></extra>",
         "legendgroup": "liveness",
         "line": {
          "color": "#FF6692",
          "dash": "solid"
         },
         "marker": {
          "symbol": "circle"
         },
         "mode": "lines",
         "name": "liveness",
         "orientation": "v",
         "showlegend": true,
         "type": "scatter",
         "x": [
          1921,
          1922,
          1923,
          1924,
          1925,
          1926,
          1927,
          1928,
          1929,
          1930,
          1931,
          1932,
          1933,
          1934,
          1935,
          1936,
          1937,
          1938,
          1939,
          1940,
          1941,
          1942,
          1943,
          1944,
          1945,
          1946,
          1947,
          1948,
          1949,
          1950,
          1951,
          1952,
          1953,
          1954,
          1955,
          1956,
          1957,
          1958,
          1959,
          1960,
          1961,
          1962,
          1963,
          1964,
          1965,
          1966,
          1967,
          1968,
          1969,
          1970,
          1971,
          1972,
          1973,
          1974,
          1975,
          1976,
          1977,
          1978,
          1979,
          1980,
          1981,
          1982,
          1983,
          1984,
          1985,
          1986,
          1987,
          1988,
          1989,
          1990,
          1991,
          1992,
          1993,
          1994,
          1995,
          1996,
          1997,
          1998,
          1999,
          2000,
          2001,
          2002,
          2003,
          2004,
          2005,
          2006,
          2007,
          2008,
          2009,
          2010,
          2011,
          2012,
          2013,
          2014,
          2015,
          2016,
          2017,
          2018,
          2019,
          2020
         ],
         "xaxis": "x",
         "y": [
          0.20571,
          0.2407197183098592,
          0.2274621621621621,
          0.2352190677966101,
          0.2376679856115108,
          0.2323695936139332,
          0.1684502439024389,
          0.1752893735130848,
          0.2360002100840333,
          0.2213108627858629,
          0.2274279503105589,
          0.2324962151394422,
          0.2090719247467437,
          0.2134525951557092,
          0.2292998682476943,
          0.2214382727272726,
          0.2259677321156773,
          0.237111092985318,
          0.2391015999999999,
          0.2643351000000004,
          0.2018398958333331,
          0.2128784185493456,
          0.2392107042253524,
          0.2387719414893616,
          0.2030099500000001,
          0.2108183294663576,
          0.2238293939393936,
          0.2196935789473678,
          0.2088585500000004,
          0.2169584000000004,
          0.2177773999999999,
          0.2329722999999998,
          0.221734051282051,
          0.2178411499999996,
          0.2214353500000001,
          0.1822571500000002,
          0.1827485641025636,
          0.2058408500000003,
          0.1918429230769232,
          0.2078637297297298,
          0.2089125789473681,
          0.2018957368421054,
          0.2037453000000002,
          0.2172323589743596,
          0.2138391282051284,
          0.2180930999999999,
          0.190917658829415,
          0.2173509500000005,
          0.2069658999999999,
          0.2122688000000002,
          0.2149145500000001,
          0.2069549500000001,
          0.2013747499999997,
          0.2093463499999996,
          0.2154413500000002,
          0.2490321999999999,
          0.2232140500000004,
          0.2180709499999994,
          0.2134431000000002,
          0.2037541025641026,
          0.2250998999999999,
          0.20100675,
          0.1989224500000002,
          0.1977062,
          0.1992064499999998,
          0.2118794500000001,
          0.202018102564103,
          0.207707538461538,
          0.1990802,
          0.1909609,
          0.1886289230769235,
          0.2002455000000007,
          0.1949322500000003,
          0.1921651000000001,
          0.2013737000000004,
          0.1986863000000002,
          0.1984788000000003,
          0.1937308999999996,
          0.206308047155305,
          0.1976860429447853,
          0.1870256359102248,
          0.1939111999999998,
          0.196976305015353,
          0.2021994404883014,
          0.1900816256410258,
          0.1882892820512821,
          0.1961265641025642,
          0.1984314066496162,
          0.2052522959183674,
          0.1997006448412699,
          0.2033088249876056,
          0.1897330077120824,
          0.1996308198380571,
          0.1918215960099752,
          0.1888564336372847,
          0.181169894268225,
          0.1917126004016064,
          0.1763255349500711,
          0.1726164186762446,
          0.1785354187192117
         ],
         "yaxis": "y"
        },
        {
         "hovertemplate": "variable=tempo<br>year=%{x}<br>value=%{y}<extra></extra>",
         "legendgroup": "tempo",
         "line": {
          "color": "#B6E880",
          "dash": "solid"
         },
         "marker": {
          "symbol": "circle"
         },
         "mode": "lines",
         "name": "tempo",
         "orientation": "v",
         "showlegend": true,
         "type": "scatter",
         "x": [
          1921,
          1922,
          1923,
          1924,
          1925,
          1926,
          1927,
          1928,
          1929,
          1930,
          1931,
          1932,
          1933,
          1934,
          1935,
          1936,
          1937,
          1938,
          1939,
          1940,
          1941,
          1942,
          1943,
          1944,
          1945,
          1946,
          1947,
          1948,
          1949,
          1950,
          1951,
          1952,
          1953,
          1954,
          1955,
          1956,
          1957,
          1958,
          1959,
          1960,
          1961,
          1962,
          1963,
          1964,
          1965,
          1966,
          1967,
          1968,
          1969,
          1970,
          1971,
          1972,
          1973,
          1974,
          1975,
          1976,
          1977,
          1978,
          1979,
          1980,
          1981,
          1982,
          1983,
          1984,
          1985,
          1986,
          1987,
          1988,
          1989,
          1990,
          1991,
          1992,
          1993,
          1994,
          1995,
          1996,
          1997,
          1998,
          1999,
          2000,
          2001,
          2002,
          2003,
          2004,
          2005,
          2006,
          2007,
          2008,
          2009,
          2010,
          2011,
          2012,
          2013,
          2014,
          2015,
          2016,
          2017,
          2018,
          2019,
          2020
         ],
         "xaxis": "x",
         "y": [
          101.53149333333327,
          100.88452112676056,
          114.0107297297297,
          120.68957203389822,
          115.5219208633093,
          109.64803265602328,
          114.84652357723554,
          106.77226169706591,
          110.94835714285716,
          109.87119438669428,
          109.02528157349909,
          115.11980079681273,
          112.522,
          115.39084602076124,
          110.66795652173931,
          109.88875454545445,
          115.2632222222222,
          111.6253278955954,
          113.174592,
          108.44933449999992,
          107.91512291666668,
          106.00839774078482,
          106.1967915492958,
          105.96392952127655,
          108.32407049999986,
          103.1645551044084,
          108.991026060606,
          108.05836105263155,
          108.87313549999992,
          111.74972499999988,
          109.62587199999994,
          108.23228049999986,
          110.02556666666672,
          108.71309249999992,
          111.02127950000023,
          112.20603900000012,
          112.75229487179486,
          113.32612349999994,
          112.11770153846165,
          112.56167891891872,
          111.80895789473686,
          114.84100473684197,
          114.32458749999984,
          115.0814892307692,
          116.83544666666688,
          116.33542399999996,
          116.6800225112558,
          115.83259149999996,
          117.02432850000014,
          117.1116105,
          118.27224749999992,
          119.412852,
          120.14631649999998,
          119.41645299999983,
          118.6840155000002,
          120.52205800000002,
          122.18543050000022,
          120.37794350000006,
          122.45681650000012,
          122.98500102564113,
          123.16939500000014,
          120.91860749999992,
          121.070629,
          121.37666200000017,
          121.9793035000001,
          120.49930200000016,
          120.84570717948708,
          120.0244256410258,
          120.5790015000003,
          120.06273350000023,
          119.36257435897409,
          122.5862185000002,
          120.36493599999991,
          118.44516999999986,
          119.28197799999988,
          117.70835699999998,
          118.1823160000002,
          118.54010800000005,
          119.50949051768336,
          118.9993231083843,
          117.76539900249378,
          119.23973849999992,
          120.9146218014328,
          121.29034587995956,
          121.61796666666648,
          121.79861538461536,
          124.0875164102562,
          123.5099335038364,
          123.4638076530612,
          123.5702152777779,
          121.48399702528488,
          121.78173624678668,
          120.80682945344118,
          122.30526284289296,
          120.11541134751768,
          118.65262993878692,
          117.20273995983936,
          121.9223076557296,
          120.23564443304272,
          124.28312857142863
         ],
         "yaxis": "y"
        },
        {
         "hovertemplate": "variable=instrumentalness<br>year=%{x}<br>value=%{y}<extra></extra>",
         "legendgroup": "instrumentalness",
         "line": {
          "color": "#FF97FF",
          "dash": "solid"
         },
         "marker": {
          "symbol": "circle"
         },
         "mode": "lines",
         "name": "instrumentalness",
         "orientation": "v",
         "showlegend": true,
         "type": "scatter",
         "x": [
          1921,
          1922,
          1923,
          1924,
          1925,
          1926,
          1927,
          1928,
          1929,
          1930,
          1931,
          1932,
          1933,
          1934,
          1935,
          1936,
          1937,
          1938,
          1939,
          1940,
          1941,
          1942,
          1943,
          1944,
          1945,
          1946,
          1947,
          1948,
          1949,
          1950,
          1951,
          1952,
          1953,
          1954,
          1955,
          1956,
          1957,
          1958,
          1959,
          1960,
          1961,
          1962,
          1963,
          1964,
          1965,
          1966,
          1967,
          1968,
          1969,
          1970,
          1971,
          1972,
          1973,
          1974,
          1975,
          1976,
          1977,
          1978,
          1979,
          1980,
          1981,
          1982,
          1983,
          1984,
          1985,
          1986,
          1987,
          1988,
          1989,
          1990,
          1991,
          1992,
          1993,
          1994,
          1995,
          1996,
          1997,
          1998,
          1999,
          2000,
          2001,
          2002,
          2003,
          2004,
          2005,
          2006,
          2007,
          2008,
          2009,
          2010,
          2011,
          2012,
          2013,
          2014,
          2015,
          2016,
          2017,
          2018,
          2019,
          2020
         ],
         "xaxis": "x",
         "y": [
          0.3448780588666665,
          0.4341948697183099,
          0.371732725027027,
          0.5817009136440677,
          0.4182973612230215,
          0.3330931111175616,
          0.3913284986504065,
          0.4948354801348136,
          0.2152040310609246,
          0.3522059281652805,
          0.2214196416149072,
          0.2263565791633467,
          0.1839489396816208,
          0.276382266643599,
          0.2258732980895915,
          0.2571099957181816,
          0.3270876216438359,
          0.3784246349265906,
          0.2776824694100001,
          0.3168486998649998,
          0.4449516393124999,
          0.392882047871581,
          0.4098969234647892,
          0.4492919654122334,
          0.2758942570149996,
          0.4861264096461711,
          0.3475934179090908,
          0.3554848223842104,
          0.2977615361899994,
          0.245000820015,
          0.3084378555850002,
          0.2884126469300002,
          0.3183223943230766,
          0.2974400082799999,
          0.2166044216900002,
          0.2387634177800001,
          0.1945206161692309,
          0.1812411100599998,
          0.1881481940615383,
          0.1765021594216216,
          0.2646232531421054,
          0.1714715509421054,
          0.18543231468,
          0.1595978017794872,
          0.1183659460923078,
          0.1151259555649999,
          0.1189468546723362,
          0.112776949285,
          0.1594527081650001,
          0.1275670030849998,
          0.12501788923,
          0.1148803337599997,
          0.0996802232299999,
          0.11636098351,
          0.1113220337449999,
          0.12162904398,
          0.1277210319449999,
          0.1003812145099999,
          0.1157513720150001,
          0.1287510612717948,
          0.1468379466199998,
          0.100016383,
          0.1454105232900004,
          0.1451730397350004,
          0.1137385580749998,
          0.1099408543649999,
          0.1019745174666666,
          0.117190380220513,
          0.1131825446149999,
          0.1258262680949997,
          0.1150923397999999,
          0.1006900830649998,
          0.11529396538,
          0.1118857599499999,
          0.1232687960699999,
          0.0950528120350001,
          0.1046901786199999,
          0.1113257503499999,
          0.0940681410661199,
          0.1011677687934559,
          0.1072140189925186,
          0.0880483503149999,
          0.0830492746673491,
          0.0779340349084435,
          0.0901943611846154,
          0.0777014718769231,
          0.0729572680512819,
          0.0636620903171356,
          0.0758720736836735,
          0.0829805682192461,
          0.103772332166584,
          0.0852055206786631,
          0.0983650539170038,
          0.0765695548379051,
          0.1067868780547114,
          0.0939843871174179,
          0.0970906090662649,
          0.0542171216690441,
          0.0776402469728064,
          0.0163755243054187
         ],
         "yaxis": "y"
        },
        {
         "hovertemplate": "variable=acousticness<br>year=%{x}<br>value=%{y}<extra></extra>",
         "legendgroup": "acousticness",
         "line": {
          "color": "#FECB52",
          "dash": "solid"
         },
         "marker": {
          "symbol": "circle"
         },
         "mode": "lines",
         "name": "acousticness",
         "orientation": "v",
         "showlegend": true,
         "type": "scatter",
         "x": [
          1921,
          1922,
          1923,
          1924,
          1925,
          1926,
          1927,
          1928,
          1929,
          1930,
          1931,
          1932,
          1933,
          1934,
          1935,
          1936,
          1937,
          1938,
          1939,
          1940,
          1941,
          1942,
          1943,
          1944,
          1945,
          1946,
          1947,
          1948,
          1949,
          1950,
          1951,
          1952,
          1953,
          1954,
          1955,
          1956,
          1957,
          1958,
          1959,
          1960,
          1961,
          1962,
          1963,
          1964,
          1965,
          1966,
          1967,
          1968,
          1969,
          1970,
          1971,
          1972,
          1973,
          1974,
          1975,
          1976,
          1977,
          1978,
          1979,
          1980,
          1981,
          1982,
          1983,
          1984,
          1985,
          1986,
          1987,
          1988,
          1989,
          1990,
          1991,
          1992,
          1993,
          1994,
          1995,
          1996,
          1997,
          1998,
          1999,
          2000,
          2001,
          2002,
          2003,
          2004,
          2005,
          2006,
          2007,
          2008,
          2009,
          2010,
          2011,
          2012,
          2013,
          2014,
          2015,
          2016,
          2017,
          2018,
          2019,
          2020
         ],
         "xaxis": "x",
         "y": [
          0.8868960000000005,
          0.9385915492957748,
          0.9572467913513516,
          0.940199860169493,
          0.9626070503597138,
          0.660817216981134,
          0.9361794552845558,
          0.9386165035685952,
          0.6014265861344558,
          0.936714937370057,
          0.8330399585921336,
          0.9357705179282878,
          0.899897909117222,
          0.8911487501730107,
          0.7783855599472987,
          0.7723120800000008,
          0.8654357853881286,
          0.9192803908646014,
          0.9087381000000004,
          0.8476440499999951,
          0.8957376562500025,
          0.8529343703923857,
          0.9027523185915528,
          0.9076531914893636,
          0.7096568630000005,
          0.9199445823665852,
          0.9139650224242392,
          0.9221549999999956,
          0.9075328949999956,
          0.8539413005999965,
          0.9022971956499974,
          0.8743009244999965,
          0.8909223502564074,
          0.8650197272999992,
          0.8405510069999986,
          0.8230569899999975,
          0.7928023589743608,
          0.7796118650000005,
          0.7793927897435907,
          0.7671814843243259,
          0.7519038684210535,
          0.720607806842106,
          0.7227048300000004,
          0.6941005307692291,
          0.6099113295384619,
          0.5248094599699997,
          0.5296103243521767,
          0.4937702403500001,
          0.4488463039999994,
          0.4600571139500007,
          0.4583362981000009,
          0.4600428051999994,
          0.4165241889999992,
          0.4472074226000001,
          0.4337738871950005,
          0.3614706321099993,
          0.3393025333750004,
          0.3289685734499993,
          0.29593224063,
          0.284955397635897,
          0.3012042267400006,
          0.2895800382050001,
          0.2947778916300001,
          0.2877095803450008,
          0.2965709032099995,
          0.2850806564249999,
          0.3116640663948722,
          0.322009946512821,
          0.3133512518150009,
          0.3328699505850001,
          0.3327652916307699,
          0.3208087638250009,
          0.3090685537400004,
          0.3062343630899999,
          0.3025118061200004,
          0.3010268798000006,
          0.3067156934549995,
          0.2914894615700001,
          0.2715901110661201,
          0.2893227005163599,
          0.2868424748428934,
          0.282624289885001,
          0.2564705181729783,
          0.2805589466225845,
          0.2557635068666665,
          0.2799863520256408,
          0.2540809575538463,
          0.2491917627212275,
          0.261928619096939,
          0.2426866435515872,
          0.2731826625185919,
          0.2499530443804624,
          0.2574880859564779,
          0.249312645880299,
          0.2539522577102332,
          0.2841710299554814,
          0.2860990665261043,
          0.2676329907750836,
          0.2782985863365824,
          0.2199308880935964
         ],
         "yaxis": "y"
        }
       ],
       "layout": {
        "legend": {
         "title": {
          "text": "variable"
         },
         "tracegroupgap": 0
        },
        "margin": {
         "t": 60
        },
        "template": {
         "data": {
          "bar": [
           {
            "error_x": {
             "color": "#2a3f5f"
            },
            "error_y": {
             "color": "#2a3f5f"
            },
            "marker": {
             "line": {
              "color": "#E5ECF6",
              "width": 0.5
             },
             "pattern": {
              "fillmode": "overlay",
              "size": 10,
              "solidity": 0.2
             }
            },
            "type": "bar"
           }
          ],
          "barpolar": [
           {
            "marker": {
             "line": {
              "color": "#E5ECF6",
              "width": 0.5
             },
             "pattern": {
              "fillmode": "overlay",
              "size": 10,
              "solidity": 0.2
             }
            },
            "type": "barpolar"
           }
          ],
          "carpet": [
           {
            "aaxis": {
             "endlinecolor": "#2a3f5f",
             "gridcolor": "white",
             "linecolor": "white",
             "minorgridcolor": "white",
             "startlinecolor": "#2a3f5f"
            },
            "baxis": {
             "endlinecolor": "#2a3f5f",
             "gridcolor": "white",
             "linecolor": "white",
             "minorgridcolor": "white",
             "startlinecolor": "#2a3f5f"
            },
            "type": "carpet"
           }
          ],
          "choropleth": [
           {
            "colorbar": {
             "outlinewidth": 0,
             "ticks": ""
            },
            "type": "choropleth"
           }
          ],
          "contour": [
           {
            "colorbar": {
             "outlinewidth": 0,
             "ticks": ""
            },
            "colorscale": [
             [
              0,
              "#0d0887"
             ],
             [
              0.1111111111111111,
              "#46039f"
             ],
             [
              0.2222222222222222,
              "#7201a8"
             ],
             [
              0.3333333333333333,
              "#9c179e"
             ],
             [
              0.4444444444444444,
              "#bd3786"
             ],
             [
              0.5555555555555556,
              "#d8576b"
             ],
             [
              0.6666666666666666,
              "#ed7953"
             ],
             [
              0.7777777777777778,
              "#fb9f3a"
             ],
             [
              0.8888888888888888,
              "#fdca26"
             ],
             [
              1,
              "#f0f921"
             ]
            ],
            "type": "contour"
           }
          ],
          "contourcarpet": [
           {
            "colorbar": {
             "outlinewidth": 0,
             "ticks": ""
            },
            "type": "contourcarpet"
           }
          ],
          "heatmap": [
           {
            "colorbar": {
             "outlinewidth": 0,
             "ticks": ""
            },
            "colorscale": [
             [
              0,
              "#0d0887"
             ],
             [
              0.1111111111111111,
              "#46039f"
             ],
             [
              0.2222222222222222,
              "#7201a8"
             ],
             [
              0.3333333333333333,
              "#9c179e"
             ],
             [
              0.4444444444444444,
              "#bd3786"
             ],
             [
              0.5555555555555556,
              "#d8576b"
             ],
             [
              0.6666666666666666,
              "#ed7953"
             ],
             [
              0.7777777777777778,
              "#fb9f3a"
             ],
             [
              0.8888888888888888,
              "#fdca26"
             ],
             [
              1,
              "#f0f921"
             ]
            ],
            "type": "heatmap"
           }
          ],
          "heatmapgl": [
           {
            "colorbar": {
             "outlinewidth": 0,
             "ticks": ""
            },
            "colorscale": [
             [
              0,
              "#0d0887"
             ],
             [
              0.1111111111111111,
              "#46039f"
             ],
             [
              0.2222222222222222,
              "#7201a8"
             ],
             [
              0.3333333333333333,
              "#9c179e"
             ],
             [
              0.4444444444444444,
              "#bd3786"
             ],
             [
              0.5555555555555556,
              "#d8576b"
             ],
             [
              0.6666666666666666,
              "#ed7953"
             ],
             [
              0.7777777777777778,
              "#fb9f3a"
             ],
             [
              0.8888888888888888,
              "#fdca26"
             ],
             [
              1,
              "#f0f921"
             ]
            ],
            "type": "heatmapgl"
           }
          ],
          "histogram": [
           {
            "marker": {
             "pattern": {
              "fillmode": "overlay",
              "size": 10,
              "solidity": 0.2
             }
            },
            "type": "histogram"
           }
          ],
          "histogram2d": [
           {
            "colorbar": {
             "outlinewidth": 0,
             "ticks": ""
            },
            "colorscale": [
             [
              0,
              "#0d0887"
             ],
             [
              0.1111111111111111,
              "#46039f"
             ],
             [
              0.2222222222222222,
              "#7201a8"
             ],
             [
              0.3333333333333333,
              "#9c179e"
             ],
             [
              0.4444444444444444,
              "#bd3786"
             ],
             [
              0.5555555555555556,
              "#d8576b"
             ],
             [
              0.6666666666666666,
              "#ed7953"
             ],
             [
              0.7777777777777778,
              "#fb9f3a"
             ],
             [
              0.8888888888888888,
              "#fdca26"
             ],
             [
              1,
              "#f0f921"
             ]
            ],
            "type": "histogram2d"
           }
          ],
          "histogram2dcontour": [
           {
            "colorbar": {
             "outlinewidth": 0,
             "ticks": ""
            },
            "colorscale": [
             [
              0,
              "#0d0887"
             ],
             [
              0.1111111111111111,
              "#46039f"
             ],
             [
              0.2222222222222222,
              "#7201a8"
             ],
             [
              0.3333333333333333,
              "#9c179e"
             ],
             [
              0.4444444444444444,
              "#bd3786"
             ],
             [
              0.5555555555555556,
              "#d8576b"
             ],
             [
              0.6666666666666666,
              "#ed7953"
             ],
             [
              0.7777777777777778,
              "#fb9f3a"
             ],
             [
              0.8888888888888888,
              "#fdca26"
             ],
             [
              1,
              "#f0f921"
             ]
            ],
            "type": "histogram2dcontour"
           }
          ],
          "mesh3d": [
           {
            "colorbar": {
             "outlinewidth": 0,
             "ticks": ""
            },
            "type": "mesh3d"
           }
          ],
          "parcoords": [
           {
            "line": {
             "colorbar": {
              "outlinewidth": 0,
              "ticks": ""
             }
            },
            "type": "parcoords"
           }
          ],
          "pie": [
           {
            "automargin": true,
            "type": "pie"
           }
          ],
          "scatter": [
           {
            "marker": {
             "colorbar": {
              "outlinewidth": 0,
              "ticks": ""
             }
            },
            "type": "scatter"
           }
          ],
          "scatter3d": [
           {
            "line": {
             "colorbar": {
              "outlinewidth": 0,
              "ticks": ""
             }
            },
            "marker": {
             "colorbar": {
              "outlinewidth": 0,
              "ticks": ""
             }
            },
            "type": "scatter3d"
           }
          ],
          "scattercarpet": [
           {
            "marker": {
             "colorbar": {
              "outlinewidth": 0,
              "ticks": ""
             }
            },
            "type": "scattercarpet"
           }
          ],
          "scattergeo": [
           {
            "marker": {
             "colorbar": {
              "outlinewidth": 0,
              "ticks": ""
             }
            },
            "type": "scattergeo"
           }
          ],
          "scattergl": [
           {
            "marker": {
             "colorbar": {
              "outlinewidth": 0,
              "ticks": ""
             }
            },
            "type": "scattergl"
           }
          ],
          "scattermapbox": [
           {
            "marker": {
             "colorbar": {
              "outlinewidth": 0,
              "ticks": ""
             }
            },
            "type": "scattermapbox"
           }
          ],
          "scatterpolar": [
           {
            "marker": {
             "colorbar": {
              "outlinewidth": 0,
              "ticks": ""
             }
            },
            "type": "scatterpolar"
           }
          ],
          "scatterpolargl": [
           {
            "marker": {
             "colorbar": {
              "outlinewidth": 0,
              "ticks": ""
             }
            },
            "type": "scatterpolargl"
           }
          ],
          "scatterternary": [
           {
            "marker": {
             "colorbar": {
              "outlinewidth": 0,
              "ticks": ""
             }
            },
            "type": "scatterternary"
           }
          ],
          "surface": [
           {
            "colorbar": {
             "outlinewidth": 0,
             "ticks": ""
            },
            "colorscale": [
             [
              0,
              "#0d0887"
             ],
             [
              0.1111111111111111,
              "#46039f"
             ],
             [
              0.2222222222222222,
              "#7201a8"
             ],
             [
              0.3333333333333333,
              "#9c179e"
             ],
             [
              0.4444444444444444,
              "#bd3786"
             ],
             [
              0.5555555555555556,
              "#d8576b"
             ],
             [
              0.6666666666666666,
              "#ed7953"
             ],
             [
              0.7777777777777778,
              "#fb9f3a"
             ],
             [
              0.8888888888888888,
              "#fdca26"
             ],
             [
              1,
              "#f0f921"
             ]
            ],
            "type": "surface"
           }
          ],
          "table": [
           {
            "cells": {
             "fill": {
              "color": "#EBF0F8"
             },
             "line": {
              "color": "white"
             }
            },
            "header": {
             "fill": {
              "color": "#C8D4E3"
             },
             "line": {
              "color": "white"
             }
            },
            "type": "table"
           }
          ]
         },
         "layout": {
          "annotationdefaults": {
           "arrowcolor": "#2a3f5f",
           "arrowhead": 0,
           "arrowwidth": 1
          },
          "autotypenumbers": "strict",
          "coloraxis": {
           "colorbar": {
            "outlinewidth": 0,
            "ticks": ""
           }
          },
          "colorscale": {
           "diverging": [
            [
             0,
             "#8e0152"
            ],
            [
             0.1,
             "#c51b7d"
            ],
            [
             0.2,
             "#de77ae"
            ],
            [
             0.3,
             "#f1b6da"
            ],
            [
             0.4,
             "#fde0ef"
            ],
            [
             0.5,
             "#f7f7f7"
            ],
            [
             0.6,
             "#e6f5d0"
            ],
            [
             0.7,
             "#b8e186"
            ],
            [
             0.8,
             "#7fbc41"
            ],
            [
             0.9,
             "#4d9221"
            ],
            [
             1,
             "#276419"
            ]
           ],
           "sequential": [
            [
             0,
             "#0d0887"
            ],
            [
             0.1111111111111111,
             "#46039f"
            ],
            [
             0.2222222222222222,
             "#7201a8"
            ],
            [
             0.3333333333333333,
             "#9c179e"
            ],
            [
             0.4444444444444444,
             "#bd3786"
            ],
            [
             0.5555555555555556,
             "#d8576b"
            ],
            [
             0.6666666666666666,
             "#ed7953"
            ],
            [
             0.7777777777777778,
             "#fb9f3a"
            ],
            [
             0.8888888888888888,
             "#fdca26"
            ],
            [
             1,
             "#f0f921"
            ]
           ],
           "sequentialminus": [
            [
             0,
             "#0d0887"
            ],
            [
             0.1111111111111111,
             "#46039f"
            ],
            [
             0.2222222222222222,
             "#7201a8"
            ],
            [
             0.3333333333333333,
             "#9c179e"
            ],
            [
             0.4444444444444444,
             "#bd3786"
            ],
            [
             0.5555555555555556,
             "#d8576b"
            ],
            [
             0.6666666666666666,
             "#ed7953"
            ],
            [
             0.7777777777777778,
             "#fb9f3a"
            ],
            [
             0.8888888888888888,
             "#fdca26"
            ],
            [
             1,
             "#f0f921"
            ]
           ]
          },
          "colorway": [
           "#636efa",
           "#EF553B",
           "#00cc96",
           "#ab63fa",
           "#FFA15A",
           "#19d3f3",
           "#FF6692",
           "#B6E880",
           "#FF97FF",
           "#FECB52"
          ],
          "font": {
           "color": "#2a3f5f"
          },
          "geo": {
           "bgcolor": "white",
           "lakecolor": "white",
           "landcolor": "#E5ECF6",
           "showlakes": true,
           "showland": true,
           "subunitcolor": "white"
          },
          "hoverlabel": {
           "align": "left"
          },
          "hovermode": "closest",
          "mapbox": {
           "style": "light"
          },
          "paper_bgcolor": "white",
          "plot_bgcolor": "#E5ECF6",
          "polar": {
           "angularaxis": {
            "gridcolor": "white",
            "linecolor": "white",
            "ticks": ""
           },
           "bgcolor": "#E5ECF6",
           "radialaxis": {
            "gridcolor": "white",
            "linecolor": "white",
            "ticks": ""
           }
          },
          "scene": {
           "xaxis": {
            "backgroundcolor": "#E5ECF6",
            "gridcolor": "white",
            "gridwidth": 2,
            "linecolor": "white",
            "showbackground": true,
            "ticks": "",
            "zerolinecolor": "white"
           },
           "yaxis": {
            "backgroundcolor": "#E5ECF6",
            "gridcolor": "white",
            "gridwidth": 2,
            "linecolor": "white",
            "showbackground": true,
            "ticks": "",
            "zerolinecolor": "white"
           },
           "zaxis": {
            "backgroundcolor": "#E5ECF6",
            "gridcolor": "white",
            "gridwidth": 2,
            "linecolor": "white",
            "showbackground": true,
            "ticks": "",
            "zerolinecolor": "white"
           }
          },
          "shapedefaults": {
           "line": {
            "color": "#2a3f5f"
           }
          },
          "ternary": {
           "aaxis": {
            "gridcolor": "white",
            "linecolor": "white",
            "ticks": ""
           },
           "baxis": {
            "gridcolor": "white",
            "linecolor": "white",
            "ticks": ""
           },
           "bgcolor": "#E5ECF6",
           "caxis": {
            "gridcolor": "white",
            "linecolor": "white",
            "ticks": ""
           }
          },
          "title": {
           "x": 0.05
          },
          "xaxis": {
           "automargin": true,
           "gridcolor": "white",
           "linecolor": "white",
           "ticks": "",
           "title": {
            "standoff": 15
           },
           "zerolinecolor": "white",
           "zerolinewidth": 2
          },
          "yaxis": {
           "automargin": true,
           "gridcolor": "white",
           "linecolor": "white",
           "ticks": "",
           "title": {
            "standoff": 15
           },
           "zerolinecolor": "white",
           "zerolinewidth": 2
          }
         }
        },
        "xaxis": {
         "anchor": "y",
         "domain": [
          0,
          1
         ],
         "title": {
          "text": "year"
         }
        },
        "yaxis": {
         "anchor": "x",
         "domain": [
          0,
          1
         ],
         "title": {
          "text": "value"
         }
        }
       }
      }
     },
     "metadata": {},
     "output_type": "display_data"
    },
    {
     "ename": "NameError",
     "evalue": "name 'dp' is not defined",
     "output_type": "error",
     "traceback": [
      "\u001b[0;31m---------------------------------------------------------------------------\u001b[0m",
      "\u001b[0;31mNameError\u001b[0m                                 Traceback (most recent call last)",
      "\u001b[0;32m/tmp/ipykernel_12366/3235564211.py\u001b[0m in \u001b[0;36m<module>\u001b[0;34m\u001b[0m\n\u001b[1;32m      6\u001b[0m \u001b[0;34m\u001b[0m\u001b[0m\n\u001b[1;32m      7\u001b[0m \u001b[0;31m#Create a report\u001b[0m\u001b[0;34m\u001b[0m\u001b[0;34m\u001b[0m\u001b[0m\n\u001b[0;32m----> 8\u001b[0;31m \u001b[0mreport\u001b[0m \u001b[0;34m=\u001b[0m \u001b[0mdp\u001b[0m\u001b[0;34m.\u001b[0m\u001b[0mReport\u001b[0m\u001b[0;34m(\u001b[0m\u001b[0mdp\u001b[0m\u001b[0;34m.\u001b[0m\u001b[0mPlot\u001b[0m\u001b[0;34m(\u001b[0m\u001b[0mfig\u001b[0m\u001b[0;34m)\u001b[0m \u001b[0;34m)\u001b[0m\u001b[0;34m\u001b[0m\u001b[0;34m\u001b[0m\u001b[0m\n\u001b[0m\u001b[1;32m      9\u001b[0m \u001b[0mreport\u001b[0m\u001b[0;34m.\u001b[0m\u001b[0mpublish\u001b[0m\u001b[0;34m(\u001b[0m\u001b[0mname\u001b[0m\u001b[0;34m=\u001b[0m\u001b[0;34m'music_over_time'\u001b[0m\u001b[0;34m,\u001b[0m \u001b[0mopen\u001b[0m\u001b[0;34m=\u001b[0m\u001b[0;32mTrue\u001b[0m\u001b[0;34m,\u001b[0m \u001b[0mvisibility\u001b[0m\u001b[0;34m=\u001b[0m\u001b[0;34m'PUBLIC'\u001b[0m\u001b[0;34m)\u001b[0m \u001b[0;31m#Publish the report\u001b[0m\u001b[0;34m\u001b[0m\u001b[0;34m\u001b[0m\u001b[0m\n",
      "\u001b[0;31mNameError\u001b[0m: name 'dp' is not defined"
     ]
    }
   ],
   "source": [
    "import plotly.express as px\n",
    "\n",
    "sound_features = ['danceability', 'key', 'loudness', 'mode', 'speechiness', 'valence', 'liveness', 'tempo', 'instrumentalness', 'acousticness']\n",
    "fig = px.line(data_year, x='year', y=sound_features)\n",
    "fig.show()\n",
    "\n"
   ]
  },
  {
   "cell_type": "code",
   "execution_count": 90,
   "metadata": {},
   "outputs": [
    {
     "data": {
      "text/markdown": [
       "Uploading report and associated data - *please wait...*"
      ],
      "text/plain": [
       "<IPython.core.display.Markdown object>"
      ]
     },
     "metadata": {},
     "output_type": "display_data"
    },
    {
     "data": {
      "text/markdown": [
       "Your report only contains a single element - did you know you can include additional plots, tables and text in a single report? Check out [the docs](https://docs.datapane.com/reports/blocks/layout-pages-and-selects) for more info"
      ],
      "text/plain": [
       "<IPython.core.display.Markdown object>"
      ]
     },
     "metadata": {},
     "output_type": "display_data"
    },
    {
     "data": {
      "text/markdown": [
       "Report successfully uploaded, click [here](https://datapane.com/u/ericmwangii/reports/M38Ngvk/music-over-time/) to view and share your report."
      ],
      "text/plain": [
       "<IPython.core.display.Markdown object>"
      ]
     },
     "metadata": {},
     "output_type": "display_data"
    }
   ],
   "source": [
    "#Create a report\n",
    "import datapane as dp\n",
    "\n",
    "dp.Report(dp.Plot(fig)).upload(name=\"Music over time\") \n"
   ]
  },
  {
   "cell_type": "markdown",
   "metadata": {},
   "source": [
    "Characteristics of different genres"
   ]
  },
  {
   "cell_type": "code",
   "execution_count": 92,
   "metadata": {},
   "outputs": [
    {
     "data": {
      "text/html": [
       "<div>\n",
       "<style scoped>\n",
       "    .dataframe tbody tr th:only-of-type {\n",
       "        vertical-align: middle;\n",
       "    }\n",
       "\n",
       "    .dataframe tbody tr th {\n",
       "        vertical-align: top;\n",
       "    }\n",
       "\n",
       "    .dataframe thead th {\n",
       "        text-align: right;\n",
       "    }\n",
       "</style>\n",
       "<table border=\"1\" class=\"dataframe\">\n",
       "  <thead>\n",
       "    <tr style=\"text-align: right;\">\n",
       "      <th></th>\n",
       "      <th>mode</th>\n",
       "      <th>genres</th>\n",
       "      <th>acousticness</th>\n",
       "      <th>danceability</th>\n",
       "      <th>duration_ms</th>\n",
       "      <th>energy</th>\n",
       "      <th>instrumentalness</th>\n",
       "      <th>liveness</th>\n",
       "      <th>loudness</th>\n",
       "      <th>speechiness</th>\n",
       "      <th>tempo</th>\n",
       "      <th>valence</th>\n",
       "      <th>popularity</th>\n",
       "      <th>key</th>\n",
       "    </tr>\n",
       "  </thead>\n",
       "  <tbody>\n",
       "    <tr>\n",
       "      <th>237</th>\n",
       "      <td>1</td>\n",
       "      <td>basshall</td>\n",
       "      <td>0.213167</td>\n",
       "      <td>0.81800</td>\n",
       "      <td>169799.166667</td>\n",
       "      <td>0.630167</td>\n",
       "      <td>0.000020</td>\n",
       "      <td>0.081067</td>\n",
       "      <td>-6.627833</td>\n",
       "      <td>0.134833</td>\n",
       "      <td>115.092500</td>\n",
       "      <td>0.588667</td>\n",
       "      <td>80.666667</td>\n",
       "      <td>2</td>\n",
       "    </tr>\n",
       "    <tr>\n",
       "      <th>2533</th>\n",
       "      <td>1</td>\n",
       "      <td>south african house</td>\n",
       "      <td>0.043833</td>\n",
       "      <td>0.84700</td>\n",
       "      <td>311854.333333</td>\n",
       "      <td>0.562333</td>\n",
       "      <td>0.130339</td>\n",
       "      <td>0.075133</td>\n",
       "      <td>-7.719000</td>\n",
       "      <td>0.050733</td>\n",
       "      <td>123.676333</td>\n",
       "      <td>0.834333</td>\n",
       "      <td>80.000000</td>\n",
       "      <td>1</td>\n",
       "    </tr>\n",
       "    <tr>\n",
       "      <th>2755</th>\n",
       "      <td>1</td>\n",
       "      <td>trap venezolano</td>\n",
       "      <td>0.044600</td>\n",
       "      <td>0.87700</td>\n",
       "      <td>231848.000000</td>\n",
       "      <td>0.777000</td>\n",
       "      <td>0.000035</td>\n",
       "      <td>0.086300</td>\n",
       "      <td>-4.246000</td>\n",
       "      <td>0.117000</td>\n",
       "      <td>102.020000</td>\n",
       "      <td>0.706000</td>\n",
       "      <td>80.000000</td>\n",
       "      <td>1</td>\n",
       "    </tr>\n",
       "    <tr>\n",
       "      <th>2778</th>\n",
       "      <td>0</td>\n",
       "      <td>turkish edm</td>\n",
       "      <td>0.008290</td>\n",
       "      <td>0.69800</td>\n",
       "      <td>186700.000000</td>\n",
       "      <td>0.719000</td>\n",
       "      <td>0.000004</td>\n",
       "      <td>0.326000</td>\n",
       "      <td>-4.923000</td>\n",
       "      <td>0.045500</td>\n",
       "      <td>120.062000</td>\n",
       "      <td>0.364000</td>\n",
       "      <td>80.000000</td>\n",
       "      <td>0</td>\n",
       "    </tr>\n",
       "    <tr>\n",
       "      <th>46</th>\n",
       "      <td>0</td>\n",
       "      <td>alberta hip hop</td>\n",
       "      <td>0.330000</td>\n",
       "      <td>0.88500</td>\n",
       "      <td>144000.000000</td>\n",
       "      <td>0.685000</td>\n",
       "      <td>0.000000</td>\n",
       "      <td>0.148000</td>\n",
       "      <td>-6.429000</td>\n",
       "      <td>0.062700</td>\n",
       "      <td>99.954000</td>\n",
       "      <td>0.937000</td>\n",
       "      <td>78.500000</td>\n",
       "      <td>11</td>\n",
       "    </tr>\n",
       "    <tr>\n",
       "      <th>536</th>\n",
       "      <td>0</td>\n",
       "      <td>chinese electropop</td>\n",
       "      <td>0.002570</td>\n",
       "      <td>0.66000</td>\n",
       "      <td>217088.000000</td>\n",
       "      <td>0.787000</td>\n",
       "      <td>0.000000</td>\n",
       "      <td>0.323000</td>\n",
       "      <td>-4.592000</td>\n",
       "      <td>0.032000</td>\n",
       "      <td>142.018000</td>\n",
       "      <td>0.199000</td>\n",
       "      <td>78.500000</td>\n",
       "      <td>1</td>\n",
       "    </tr>\n",
       "    <tr>\n",
       "      <th>37</th>\n",
       "      <td>0</td>\n",
       "      <td>afroswing</td>\n",
       "      <td>0.318450</td>\n",
       "      <td>0.71175</td>\n",
       "      <td>179995.375000</td>\n",
       "      <td>0.580187</td>\n",
       "      <td>0.000258</td>\n",
       "      <td>0.189950</td>\n",
       "      <td>-7.016687</td>\n",
       "      <td>0.195563</td>\n",
       "      <td>83.250125</td>\n",
       "      <td>0.676625</td>\n",
       "      <td>77.312500</td>\n",
       "      <td>11</td>\n",
       "    </tr>\n",
       "    <tr>\n",
       "      <th>31</th>\n",
       "      <td>0</td>\n",
       "      <td>afro soul</td>\n",
       "      <td>0.006270</td>\n",
       "      <td>0.76600</td>\n",
       "      <td>202627.000000</td>\n",
       "      <td>0.873000</td>\n",
       "      <td>0.000000</td>\n",
       "      <td>0.076400</td>\n",
       "      <td>-6.381000</td>\n",
       "      <td>0.143000</td>\n",
       "      <td>126.988000</td>\n",
       "      <td>0.743000</td>\n",
       "      <td>77.000000</td>\n",
       "      <td>11</td>\n",
       "    </tr>\n",
       "    <tr>\n",
       "      <th>575</th>\n",
       "      <td>1</td>\n",
       "      <td>circuit</td>\n",
       "      <td>0.009030</td>\n",
       "      <td>0.74500</td>\n",
       "      <td>189818.000000</td>\n",
       "      <td>0.972000</td>\n",
       "      <td>0.465000</td>\n",
       "      <td>0.297000</td>\n",
       "      <td>-3.506000</td>\n",
       "      <td>0.077400</td>\n",
       "      <td>128.031000</td>\n",
       "      <td>0.556000</td>\n",
       "      <td>77.000000</td>\n",
       "      <td>7</td>\n",
       "    </tr>\n",
       "    <tr>\n",
       "      <th>1239</th>\n",
       "      <td>1</td>\n",
       "      <td>guaracha</td>\n",
       "      <td>0.009030</td>\n",
       "      <td>0.74500</td>\n",
       "      <td>189818.000000</td>\n",
       "      <td>0.972000</td>\n",
       "      <td>0.465000</td>\n",
       "      <td>0.297000</td>\n",
       "      <td>-3.506000</td>\n",
       "      <td>0.077400</td>\n",
       "      <td>128.031000</td>\n",
       "      <td>0.556000</td>\n",
       "      <td>77.000000</td>\n",
       "      <td>7</td>\n",
       "    </tr>\n",
       "  </tbody>\n",
       "</table>\n",
       "</div>"
      ],
      "text/plain": [
       "      mode               genres  acousticness  danceability    duration_ms  \\\n",
       "237      1             basshall      0.213167       0.81800  169799.166667   \n",
       "2533     1  south african house      0.043833       0.84700  311854.333333   \n",
       "2755     1      trap venezolano      0.044600       0.87700  231848.000000   \n",
       "2778     0          turkish edm      0.008290       0.69800  186700.000000   \n",
       "46       0      alberta hip hop      0.330000       0.88500  144000.000000   \n",
       "536      0   chinese electropop      0.002570       0.66000  217088.000000   \n",
       "37       0            afroswing      0.318450       0.71175  179995.375000   \n",
       "31       0            afro soul      0.006270       0.76600  202627.000000   \n",
       "575      1              circuit      0.009030       0.74500  189818.000000   \n",
       "1239     1             guaracha      0.009030       0.74500  189818.000000   \n",
       "\n",
       "        energy  instrumentalness  liveness  loudness  speechiness       tempo  \\\n",
       "237   0.630167          0.000020  0.081067 -6.627833     0.134833  115.092500   \n",
       "2533  0.562333          0.130339  0.075133 -7.719000     0.050733  123.676333   \n",
       "2755  0.777000          0.000035  0.086300 -4.246000     0.117000  102.020000   \n",
       "2778  0.719000          0.000004  0.326000 -4.923000     0.045500  120.062000   \n",
       "46    0.685000          0.000000  0.148000 -6.429000     0.062700   99.954000   \n",
       "536   0.787000          0.000000  0.323000 -4.592000     0.032000  142.018000   \n",
       "37    0.580187          0.000258  0.189950 -7.016687     0.195563   83.250125   \n",
       "31    0.873000          0.000000  0.076400 -6.381000     0.143000  126.988000   \n",
       "575   0.972000          0.465000  0.297000 -3.506000     0.077400  128.031000   \n",
       "1239  0.972000          0.465000  0.297000 -3.506000     0.077400  128.031000   \n",
       "\n",
       "       valence  popularity  key  \n",
       "237   0.588667   80.666667    2  \n",
       "2533  0.834333   80.000000    1  \n",
       "2755  0.706000   80.000000    1  \n",
       "2778  0.364000   80.000000    0  \n",
       "46    0.937000   78.500000   11  \n",
       "536   0.199000   78.500000    1  \n",
       "37    0.676625   77.312500   11  \n",
       "31    0.743000   77.000000   11  \n",
       "575   0.556000   77.000000    7  \n",
       "1239  0.556000   77.000000    7  "
      ]
     },
     "execution_count": 92,
     "metadata": {},
     "output_type": "execute_result"
    }
   ],
   "source": [
    "genre_data.nlargest(10, 'popularity')"
   ]
  },
  {
   "cell_type": "code",
   "execution_count": 93,
   "metadata": {},
   "outputs": [
    {
     "data": {
      "application/vnd.plotly.v1+json": {
       "config": {
        "plotlyServerURL": "https://plot.ly"
       },
       "data": [
        {
         "alignmentgroup": "True",
         "hovertemplate": "variable=acousticness<br>genres=%{x}<br>value=%{y}<extra></extra>",
         "legendgroup": "acousticness",
         "marker": {
          "color": "#636efa",
          "pattern": {
           "shape": ""
          }
         },
         "name": "acousticness",
         "offsetgroup": "acousticness",
         "orientation": "v",
         "showlegend": true,
         "textposition": "auto",
         "type": "bar",
         "x": [
          "basshall",
          "south african house",
          "trap venezolano",
          "turkish edm",
          "alberta hip hop",
          "chinese electropop",
          "afroswing",
          "afro soul",
          "circuit",
          "guaracha"
         ],
         "xaxis": "x",
         "y": [
          0.2131666666666666,
          0.0438333333333333,
          0.0446,
          0.00829,
          0.33,
          0.00257,
          0.31845,
          0.00627,
          0.00903,
          0.00903
         ],
         "yaxis": "y"
        },
        {
         "alignmentgroup": "True",
         "hovertemplate": "variable=danceability<br>genres=%{x}<br>value=%{y}<extra></extra>",
         "legendgroup": "danceability",
         "marker": {
          "color": "#EF553B",
          "pattern": {
           "shape": ""
          }
         },
         "name": "danceability",
         "offsetgroup": "danceability",
         "orientation": "v",
         "showlegend": true,
         "textposition": "auto",
         "type": "bar",
         "x": [
          "basshall",
          "south african house",
          "trap venezolano",
          "turkish edm",
          "alberta hip hop",
          "chinese electropop",
          "afroswing",
          "afro soul",
          "circuit",
          "guaracha"
         ],
         "xaxis": "x",
         "y": [
          0.8180000000000001,
          0.847,
          0.877,
          0.698,
          0.885,
          0.66,
          0.71175,
          0.7659999999999999,
          0.745,
          0.745
         ],
         "yaxis": "y"
        },
        {
         "alignmentgroup": "True",
         "hovertemplate": "variable=energy<br>genres=%{x}<br>value=%{y}<extra></extra>",
         "legendgroup": "energy",
         "marker": {
          "color": "#00cc96",
          "pattern": {
           "shape": ""
          }
         },
         "name": "energy",
         "offsetgroup": "energy",
         "orientation": "v",
         "showlegend": true,
         "textposition": "auto",
         "type": "bar",
         "x": [
          "basshall",
          "south african house",
          "trap venezolano",
          "turkish edm",
          "alberta hip hop",
          "chinese electropop",
          "afroswing",
          "afro soul",
          "circuit",
          "guaracha"
         ],
         "xaxis": "x",
         "y": [
          0.6301666666666668,
          0.5623333333333332,
          0.777,
          0.7190000000000001,
          0.685,
          0.787,
          0.5801875,
          0.873,
          0.972,
          0.972
         ],
         "yaxis": "y"
        },
        {
         "alignmentgroup": "True",
         "hovertemplate": "variable=instrumentalness<br>genres=%{x}<br>value=%{y}<extra></extra>",
         "legendgroup": "instrumentalness",
         "marker": {
          "color": "#ab63fa",
          "pattern": {
           "shape": ""
          }
         },
         "name": "instrumentalness",
         "offsetgroup": "instrumentalness",
         "orientation": "v",
         "showlegend": true,
         "textposition": "auto",
         "type": "bar",
         "x": [
          "basshall",
          "south african house",
          "trap venezolano",
          "turkish edm",
          "alberta hip hop",
          "chinese electropop",
          "afroswing",
          "afro soul",
          "circuit",
          "guaracha"
         ],
         "xaxis": "x",
         "y": [
          0.00002,
          0.1303391666666666,
          0.0000346,
          0.00000401,
          0,
          0,
          0.000257895,
          0,
          0.465,
          0.465
         ],
         "yaxis": "y"
        },
        {
         "alignmentgroup": "True",
         "hovertemplate": "variable=liveness<br>genres=%{x}<br>value=%{y}<extra></extra>",
         "legendgroup": "liveness",
         "marker": {
          "color": "#FFA15A",
          "pattern": {
           "shape": ""
          }
         },
         "name": "liveness",
         "offsetgroup": "liveness",
         "orientation": "v",
         "showlegend": true,
         "textposition": "auto",
         "type": "bar",
         "x": [
          "basshall",
          "south african house",
          "trap venezolano",
          "turkish edm",
          "alberta hip hop",
          "chinese electropop",
          "afroswing",
          "afro soul",
          "circuit",
          "guaracha"
         ],
         "xaxis": "x",
         "y": [
          0.0810666666666666,
          0.0751333333333333,
          0.0863,
          0.326,
          0.148,
          0.3229999999999999,
          0.18995,
          0.0764,
          0.297,
          0.297
         ],
         "yaxis": "y"
        },
        {
         "alignmentgroup": "True",
         "hovertemplate": "variable=loudness<br>genres=%{x}<br>value=%{y}<extra></extra>",
         "legendgroup": "loudness",
         "marker": {
          "color": "#19d3f3",
          "pattern": {
           "shape": ""
          }
         },
         "name": "loudness",
         "offsetgroup": "loudness",
         "orientation": "v",
         "showlegend": true,
         "textposition": "auto",
         "type": "bar",
         "x": [
          "basshall",
          "south african house",
          "trap venezolano",
          "turkish edm",
          "alberta hip hop",
          "chinese electropop",
          "afroswing",
          "afro soul",
          "circuit",
          "guaracha"
         ],
         "xaxis": "x",
         "y": [
          -6.627833333333332,
          -7.718999999999999,
          -4.246,
          -4.923,
          -6.428999999999999,
          -4.592,
          -7.0166875,
          -6.381,
          -3.506,
          -3.506
         ],
         "yaxis": "y"
        },
        {
         "alignmentgroup": "True",
         "hovertemplate": "variable=speechiness<br>genres=%{x}<br>value=%{y}<extra></extra>",
         "legendgroup": "speechiness",
         "marker": {
          "color": "#FF6692",
          "pattern": {
           "shape": ""
          }
         },
         "name": "speechiness",
         "offsetgroup": "speechiness",
         "orientation": "v",
         "showlegend": true,
         "textposition": "auto",
         "type": "bar",
         "x": [
          "basshall",
          "south african house",
          "trap venezolano",
          "turkish edm",
          "alberta hip hop",
          "chinese electropop",
          "afroswing",
          "afro soul",
          "circuit",
          "guaracha"
         ],
         "xaxis": "x",
         "y": [
          0.1348333333333333,
          0.0507333333333333,
          0.117,
          0.0455,
          0.0627,
          0.032,
          0.1955625,
          0.143,
          0.0774,
          0.0774
         ],
         "yaxis": "y"
        },
        {
         "alignmentgroup": "True",
         "hovertemplate": "variable=tempo<br>genres=%{x}<br>value=%{y}<extra></extra>",
         "legendgroup": "tempo",
         "marker": {
          "color": "#B6E880",
          "pattern": {
           "shape": ""
          }
         },
         "name": "tempo",
         "offsetgroup": "tempo",
         "orientation": "v",
         "showlegend": true,
         "textposition": "auto",
         "type": "bar",
         "x": [
          "basshall",
          "south african house",
          "trap venezolano",
          "turkish edm",
          "alberta hip hop",
          "chinese electropop",
          "afroswing",
          "afro soul",
          "circuit",
          "guaracha"
         ],
         "xaxis": "x",
         "y": [
          115.0925,
          123.67633333333332,
          102.02,
          120.062,
          99.954,
          142.018,
          83.250125,
          126.988,
          128.031,
          128.031
         ],
         "yaxis": "y"
        },
        {
         "alignmentgroup": "True",
         "hovertemplate": "variable=valence<br>genres=%{x}<br>value=%{y}<extra></extra>",
         "legendgroup": "valence",
         "marker": {
          "color": "#FF97FF",
          "pattern": {
           "shape": ""
          }
         },
         "name": "valence",
         "offsetgroup": "valence",
         "orientation": "v",
         "showlegend": true,
         "textposition": "auto",
         "type": "bar",
         "x": [
          "basshall",
          "south african house",
          "trap venezolano",
          "turkish edm",
          "alberta hip hop",
          "chinese electropop",
          "afroswing",
          "afro soul",
          "circuit",
          "guaracha"
         ],
         "xaxis": "x",
         "y": [
          0.5886666666666667,
          0.8343333333333334,
          0.706,
          0.364,
          0.937,
          0.199,
          0.676625,
          0.743,
          0.556,
          0.556
         ],
         "yaxis": "y"
        },
        {
         "alignmentgroup": "True",
         "hovertemplate": "variable=popularity<br>genres=%{x}<br>value=%{y}<extra></extra>",
         "legendgroup": "popularity",
         "marker": {
          "color": "#FECB52",
          "pattern": {
           "shape": ""
          }
         },
         "name": "popularity",
         "offsetgroup": "popularity",
         "orientation": "v",
         "showlegend": true,
         "textposition": "auto",
         "type": "bar",
         "x": [
          "basshall",
          "south african house",
          "trap venezolano",
          "turkish edm",
          "alberta hip hop",
          "chinese electropop",
          "afroswing",
          "afro soul",
          "circuit",
          "guaracha"
         ],
         "xaxis": "x",
         "y": [
          80.66666666666666,
          80,
          80,
          80,
          78.5,
          78.5,
          77.3125,
          77,
          77,
          77
         ],
         "yaxis": "y"
        },
        {
         "alignmentgroup": "True",
         "hovertemplate": "variable=key<br>genres=%{x}<br>value=%{y}<extra></extra>",
         "legendgroup": "key",
         "marker": {
          "color": "#636efa",
          "pattern": {
           "shape": ""
          }
         },
         "name": "key",
         "offsetgroup": "key",
         "orientation": "v",
         "showlegend": true,
         "textposition": "auto",
         "type": "bar",
         "x": [
          "basshall",
          "south african house",
          "trap venezolano",
          "turkish edm",
          "alberta hip hop",
          "chinese electropop",
          "afroswing",
          "afro soul",
          "circuit",
          "guaracha"
         ],
         "xaxis": "x",
         "y": [
          2,
          1,
          1,
          0,
          11,
          1,
          11,
          11,
          7,
          7
         ],
         "yaxis": "y"
        }
       ],
       "layout": {
        "barmode": "group",
        "legend": {
         "title": {
          "text": "variable"
         },
         "tracegroupgap": 0
        },
        "margin": {
         "t": 60
        },
        "template": {
         "data": {
          "bar": [
           {
            "error_x": {
             "color": "#2a3f5f"
            },
            "error_y": {
             "color": "#2a3f5f"
            },
            "marker": {
             "line": {
              "color": "#E5ECF6",
              "width": 0.5
             },
             "pattern": {
              "fillmode": "overlay",
              "size": 10,
              "solidity": 0.2
             }
            },
            "type": "bar"
           }
          ],
          "barpolar": [
           {
            "marker": {
             "line": {
              "color": "#E5ECF6",
              "width": 0.5
             },
             "pattern": {
              "fillmode": "overlay",
              "size": 10,
              "solidity": 0.2
             }
            },
            "type": "barpolar"
           }
          ],
          "carpet": [
           {
            "aaxis": {
             "endlinecolor": "#2a3f5f",
             "gridcolor": "white",
             "linecolor": "white",
             "minorgridcolor": "white",
             "startlinecolor": "#2a3f5f"
            },
            "baxis": {
             "endlinecolor": "#2a3f5f",
             "gridcolor": "white",
             "linecolor": "white",
             "minorgridcolor": "white",
             "startlinecolor": "#2a3f5f"
            },
            "type": "carpet"
           }
          ],
          "choropleth": [
           {
            "colorbar": {
             "outlinewidth": 0,
             "ticks": ""
            },
            "type": "choropleth"
           }
          ],
          "contour": [
           {
            "colorbar": {
             "outlinewidth": 0,
             "ticks": ""
            },
            "colorscale": [
             [
              0,
              "#0d0887"
             ],
             [
              0.1111111111111111,
              "#46039f"
             ],
             [
              0.2222222222222222,
              "#7201a8"
             ],
             [
              0.3333333333333333,
              "#9c179e"
             ],
             [
              0.4444444444444444,
              "#bd3786"
             ],
             [
              0.5555555555555556,
              "#d8576b"
             ],
             [
              0.6666666666666666,
              "#ed7953"
             ],
             [
              0.7777777777777778,
              "#fb9f3a"
             ],
             [
              0.8888888888888888,
              "#fdca26"
             ],
             [
              1,
              "#f0f921"
             ]
            ],
            "type": "contour"
           }
          ],
          "contourcarpet": [
           {
            "colorbar": {
             "outlinewidth": 0,
             "ticks": ""
            },
            "type": "contourcarpet"
           }
          ],
          "heatmap": [
           {
            "colorbar": {
             "outlinewidth": 0,
             "ticks": ""
            },
            "colorscale": [
             [
              0,
              "#0d0887"
             ],
             [
              0.1111111111111111,
              "#46039f"
             ],
             [
              0.2222222222222222,
              "#7201a8"
             ],
             [
              0.3333333333333333,
              "#9c179e"
             ],
             [
              0.4444444444444444,
              "#bd3786"
             ],
             [
              0.5555555555555556,
              "#d8576b"
             ],
             [
              0.6666666666666666,
              "#ed7953"
             ],
             [
              0.7777777777777778,
              "#fb9f3a"
             ],
             [
              0.8888888888888888,
              "#fdca26"
             ],
             [
              1,
              "#f0f921"
             ]
            ],
            "type": "heatmap"
           }
          ],
          "heatmapgl": [
           {
            "colorbar": {
             "outlinewidth": 0,
             "ticks": ""
            },
            "colorscale": [
             [
              0,
              "#0d0887"
             ],
             [
              0.1111111111111111,
              "#46039f"
             ],
             [
              0.2222222222222222,
              "#7201a8"
             ],
             [
              0.3333333333333333,
              "#9c179e"
             ],
             [
              0.4444444444444444,
              "#bd3786"
             ],
             [
              0.5555555555555556,
              "#d8576b"
             ],
             [
              0.6666666666666666,
              "#ed7953"
             ],
             [
              0.7777777777777778,
              "#fb9f3a"
             ],
             [
              0.8888888888888888,
              "#fdca26"
             ],
             [
              1,
              "#f0f921"
             ]
            ],
            "type": "heatmapgl"
           }
          ],
          "histogram": [
           {
            "marker": {
             "pattern": {
              "fillmode": "overlay",
              "size": 10,
              "solidity": 0.2
             }
            },
            "type": "histogram"
           }
          ],
          "histogram2d": [
           {
            "colorbar": {
             "outlinewidth": 0,
             "ticks": ""
            },
            "colorscale": [
             [
              0,
              "#0d0887"
             ],
             [
              0.1111111111111111,
              "#46039f"
             ],
             [
              0.2222222222222222,
              "#7201a8"
             ],
             [
              0.3333333333333333,
              "#9c179e"
             ],
             [
              0.4444444444444444,
              "#bd3786"
             ],
             [
              0.5555555555555556,
              "#d8576b"
             ],
             [
              0.6666666666666666,
              "#ed7953"
             ],
             [
              0.7777777777777778,
              "#fb9f3a"
             ],
             [
              0.8888888888888888,
              "#fdca26"
             ],
             [
              1,
              "#f0f921"
             ]
            ],
            "type": "histogram2d"
           }
          ],
          "histogram2dcontour": [
           {
            "colorbar": {
             "outlinewidth": 0,
             "ticks": ""
            },
            "colorscale": [
             [
              0,
              "#0d0887"
             ],
             [
              0.1111111111111111,
              "#46039f"
             ],
             [
              0.2222222222222222,
              "#7201a8"
             ],
             [
              0.3333333333333333,
              "#9c179e"
             ],
             [
              0.4444444444444444,
              "#bd3786"
             ],
             [
              0.5555555555555556,
              "#d8576b"
             ],
             [
              0.6666666666666666,
              "#ed7953"
             ],
             [
              0.7777777777777778,
              "#fb9f3a"
             ],
             [
              0.8888888888888888,
              "#fdca26"
             ],
             [
              1,
              "#f0f921"
             ]
            ],
            "type": "histogram2dcontour"
           }
          ],
          "mesh3d": [
           {
            "colorbar": {
             "outlinewidth": 0,
             "ticks": ""
            },
            "type": "mesh3d"
           }
          ],
          "parcoords": [
           {
            "line": {
             "colorbar": {
              "outlinewidth": 0,
              "ticks": ""
             }
            },
            "type": "parcoords"
           }
          ],
          "pie": [
           {
            "automargin": true,
            "type": "pie"
           }
          ],
          "scatter": [
           {
            "marker": {
             "colorbar": {
              "outlinewidth": 0,
              "ticks": ""
             }
            },
            "type": "scatter"
           }
          ],
          "scatter3d": [
           {
            "line": {
             "colorbar": {
              "outlinewidth": 0,
              "ticks": ""
             }
            },
            "marker": {
             "colorbar": {
              "outlinewidth": 0,
              "ticks": ""
             }
            },
            "type": "scatter3d"
           }
          ],
          "scattercarpet": [
           {
            "marker": {
             "colorbar": {
              "outlinewidth": 0,
              "ticks": ""
             }
            },
            "type": "scattercarpet"
           }
          ],
          "scattergeo": [
           {
            "marker": {
             "colorbar": {
              "outlinewidth": 0,
              "ticks": ""
             }
            },
            "type": "scattergeo"
           }
          ],
          "scattergl": [
           {
            "marker": {
             "colorbar": {
              "outlinewidth": 0,
              "ticks": ""
             }
            },
            "type": "scattergl"
           }
          ],
          "scattermapbox": [
           {
            "marker": {
             "colorbar": {
              "outlinewidth": 0,
              "ticks": ""
             }
            },
            "type": "scattermapbox"
           }
          ],
          "scatterpolar": [
           {
            "marker": {
             "colorbar": {
              "outlinewidth": 0,
              "ticks": ""
             }
            },
            "type": "scatterpolar"
           }
          ],
          "scatterpolargl": [
           {
            "marker": {
             "colorbar": {
              "outlinewidth": 0,
              "ticks": ""
             }
            },
            "type": "scatterpolargl"
           }
          ],
          "scatterternary": [
           {
            "marker": {
             "colorbar": {
              "outlinewidth": 0,
              "ticks": ""
             }
            },
            "type": "scatterternary"
           }
          ],
          "surface": [
           {
            "colorbar": {
             "outlinewidth": 0,
             "ticks": ""
            },
            "colorscale": [
             [
              0,
              "#0d0887"
             ],
             [
              0.1111111111111111,
              "#46039f"
             ],
             [
              0.2222222222222222,
              "#7201a8"
             ],
             [
              0.3333333333333333,
              "#9c179e"
             ],
             [
              0.4444444444444444,
              "#bd3786"
             ],
             [
              0.5555555555555556,
              "#d8576b"
             ],
             [
              0.6666666666666666,
              "#ed7953"
             ],
             [
              0.7777777777777778,
              "#fb9f3a"
             ],
             [
              0.8888888888888888,
              "#fdca26"
             ],
             [
              1,
              "#f0f921"
             ]
            ],
            "type": "surface"
           }
          ],
          "table": [
           {
            "cells": {
             "fill": {
              "color": "#EBF0F8"
             },
             "line": {
              "color": "white"
             }
            },
            "header": {
             "fill": {
              "color": "#C8D4E3"
             },
             "line": {
              "color": "white"
             }
            },
            "type": "table"
           }
          ]
         },
         "layout": {
          "annotationdefaults": {
           "arrowcolor": "#2a3f5f",
           "arrowhead": 0,
           "arrowwidth": 1
          },
          "autotypenumbers": "strict",
          "coloraxis": {
           "colorbar": {
            "outlinewidth": 0,
            "ticks": ""
           }
          },
          "colorscale": {
           "diverging": [
            [
             0,
             "#8e0152"
            ],
            [
             0.1,
             "#c51b7d"
            ],
            [
             0.2,
             "#de77ae"
            ],
            [
             0.3,
             "#f1b6da"
            ],
            [
             0.4,
             "#fde0ef"
            ],
            [
             0.5,
             "#f7f7f7"
            ],
            [
             0.6,
             "#e6f5d0"
            ],
            [
             0.7,
             "#b8e186"
            ],
            [
             0.8,
             "#7fbc41"
            ],
            [
             0.9,
             "#4d9221"
            ],
            [
             1,
             "#276419"
            ]
           ],
           "sequential": [
            [
             0,
             "#0d0887"
            ],
            [
             0.1111111111111111,
             "#46039f"
            ],
            [
             0.2222222222222222,
             "#7201a8"
            ],
            [
             0.3333333333333333,
             "#9c179e"
            ],
            [
             0.4444444444444444,
             "#bd3786"
            ],
            [
             0.5555555555555556,
             "#d8576b"
            ],
            [
             0.6666666666666666,
             "#ed7953"
            ],
            [
             0.7777777777777778,
             "#fb9f3a"
            ],
            [
             0.8888888888888888,
             "#fdca26"
            ],
            [
             1,
             "#f0f921"
            ]
           ],
           "sequentialminus": [
            [
             0,
             "#0d0887"
            ],
            [
             0.1111111111111111,
             "#46039f"
            ],
            [
             0.2222222222222222,
             "#7201a8"
            ],
            [
             0.3333333333333333,
             "#9c179e"
            ],
            [
             0.4444444444444444,
             "#bd3786"
            ],
            [
             0.5555555555555556,
             "#d8576b"
            ],
            [
             0.6666666666666666,
             "#ed7953"
            ],
            [
             0.7777777777777778,
             "#fb9f3a"
            ],
            [
             0.8888888888888888,
             "#fdca26"
            ],
            [
             1,
             "#f0f921"
            ]
           ]
          },
          "colorway": [
           "#636efa",
           "#EF553B",
           "#00cc96",
           "#ab63fa",
           "#FFA15A",
           "#19d3f3",
           "#FF6692",
           "#B6E880",
           "#FF97FF",
           "#FECB52"
          ],
          "font": {
           "color": "#2a3f5f"
          },
          "geo": {
           "bgcolor": "white",
           "lakecolor": "white",
           "landcolor": "#E5ECF6",
           "showlakes": true,
           "showland": true,
           "subunitcolor": "white"
          },
          "hoverlabel": {
           "align": "left"
          },
          "hovermode": "closest",
          "mapbox": {
           "style": "light"
          },
          "paper_bgcolor": "white",
          "plot_bgcolor": "#E5ECF6",
          "polar": {
           "angularaxis": {
            "gridcolor": "white",
            "linecolor": "white",
            "ticks": ""
           },
           "bgcolor": "#E5ECF6",
           "radialaxis": {
            "gridcolor": "white",
            "linecolor": "white",
            "ticks": ""
           }
          },
          "scene": {
           "xaxis": {
            "backgroundcolor": "#E5ECF6",
            "gridcolor": "white",
            "gridwidth": 2,
            "linecolor": "white",
            "showbackground": true,
            "ticks": "",
            "zerolinecolor": "white"
           },
           "yaxis": {
            "backgroundcolor": "#E5ECF6",
            "gridcolor": "white",
            "gridwidth": 2,
            "linecolor": "white",
            "showbackground": true,
            "ticks": "",
            "zerolinecolor": "white"
           },
           "zaxis": {
            "backgroundcolor": "#E5ECF6",
            "gridcolor": "white",
            "gridwidth": 2,
            "linecolor": "white",
            "showbackground": true,
            "ticks": "",
            "zerolinecolor": "white"
           }
          },
          "shapedefaults": {
           "line": {
            "color": "#2a3f5f"
           }
          },
          "ternary": {
           "aaxis": {
            "gridcolor": "white",
            "linecolor": "white",
            "ticks": ""
           },
           "baxis": {
            "gridcolor": "white",
            "linecolor": "white",
            "ticks": ""
           },
           "bgcolor": "#E5ECF6",
           "caxis": {
            "gridcolor": "white",
            "linecolor": "white",
            "ticks": ""
           }
          },
          "title": {
           "x": 0.05
          },
          "xaxis": {
           "automargin": true,
           "gridcolor": "white",
           "linecolor": "white",
           "ticks": "",
           "title": {
            "standoff": 15
           },
           "zerolinecolor": "white",
           "zerolinewidth": 2
          },
          "yaxis": {
           "automargin": true,
           "gridcolor": "white",
           "linecolor": "white",
           "ticks": "",
           "title": {
            "standoff": 15
           },
           "zerolinecolor": "white",
           "zerolinewidth": 2
          }
         }
        },
        "xaxis": {
         "anchor": "y",
         "domain": [
          0,
          1
         ],
         "title": {
          "text": "genres"
         }
        },
        "yaxis": {
         "anchor": "x",
         "domain": [
          0,
          1
         ],
         "title": {
          "text": "value"
         }
        }
       }
      }
     },
     "metadata": {},
     "output_type": "display_data"
    }
   ],
   "source": [
    "top10genres = genre_data.nlargest(10, 'popularity')\n",
    "fig = px.bar(top10genres, x='genres', y=['acousticness', 'danceability', 'energy', 'instrumentalness', 'liveness', 'loudness', 'speechiness', 'tempo', 'valence', 'popularity', 'key'], barmode='group')\n",
    "fig.show()"
   ]
  },
  {
   "cell_type": "code",
   "execution_count": 94,
   "metadata": {},
   "outputs": [
    {
     "data": {
      "text/markdown": [
       "Uploading report and associated data - *please wait...*"
      ],
      "text/plain": [
       "<IPython.core.display.Markdown object>"
      ]
     },
     "metadata": {},
     "output_type": "display_data"
    },
    {
     "data": {
      "text/markdown": [
       "Your report only contains a single element - did you know you can include additional plots, tables and text in a single report? Check out [the docs](https://docs.datapane.com/reports/blocks/layout-pages-and-selects) for more info"
      ],
      "text/plain": [
       "<IPython.core.display.Markdown object>"
      ]
     },
     "metadata": {},
     "output_type": "display_data"
    },
    {
     "data": {
      "text/markdown": [
       "Report successfully uploaded, click [here](https://datapane.com/u/ericmwangii/reports/0keR20A/characteristics-of-different-genres/) to view and share your report."
      ],
      "text/plain": [
       "<IPython.core.display.Markdown object>"
      ]
     },
     "metadata": {},
     "output_type": "display_data"
    }
   ],
   "source": [
    "dp.Report(dp.Plot(fig)).upload(name=\"Characteristics of different genres\") "
   ]
  }
 ],
 "metadata": {
  "interpreter": {
   "hash": "e7370f93d1d0cde622a1f8e1c04877d8463912d04d973331ad4851f04de6915a"
  },
  "kernelspec": {
   "display_name": "Python 3.9.7 64-bit",
   "name": "python3"
  },
  "language_info": {
   "codemirror_mode": {
    "name": "ipython",
    "version": 3
   },
   "file_extension": ".py",
   "mimetype": "text/x-python",
   "name": "python",
   "nbconvert_exporter": "python",
   "pygments_lexer": "ipython3",
   "version": "3.9.7"
  },
  "orig_nbformat": 4
 },
 "nbformat": 4,
 "nbformat_minor": 2
}
